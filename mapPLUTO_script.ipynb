{
 "cells": [
  {
   "cell_type": "code",
   "execution_count": 1,
   "metadata": {
    "collapsed": false
   },
   "outputs": [
    {
     "name": "stdout",
     "output_type": "stream",
     "text": [
      "Populating the interactive namespace from numpy and matplotlib\n"
     ]
    }
   ],
   "source": [
    "import pandas as pd\n",
    "import zipfile\n",
    "import geopandas as gpd\n",
    "%pylab inline"
   ]
  },
  {
   "cell_type": "code",
   "execution_count": 8,
   "metadata": {
    "collapsed": true
   },
   "outputs": [],
   "source": [
    "def pluto(mappluto,censusblockgroup):\n",
    "    z = zipfile.ZipFile(mappluto)\n",
    "    z.extractall('../data_initial/')\n",
    "    \n",
    "    z = zipfile.ZipFile(censusblockgroup)\n",
    "    z.extractall('../data_initial/')\n",
    "    \n",
    "    boroughs = ['Staten_Island', 'Queens', 'Manhattan', 'Bronx', 'Brooklyn']\n",
    "    abreevs = ['SI', 'QN', 'MN', 'BX', 'BK']\n",
    "\n",
    "    pluto = []\n",
    "    i = 0\n",
    "    for elem in boroughs:\n",
    "        temp = gpd.read_file('../data_initial/'+elem+'/'+abreevs[i]+'MapPLUTO.shp')\n",
    "        temp['BBL'] = temp['BBL'].astype(str)\n",
    "        temp = temp.to_crs({'init':'epsg:4326'})\n",
    "        pluto.append(temp)\n",
    "        i+=1  \n",
    "\n",
    "    global pluto_updated\n",
    "    pluto_updated = pd.concat(pluto)\n",
    "    pluto_updated['BBL'] = pluto_updated['BBL'].astype(str)\n",
    "    \n",
    "    global cbg\n",
    "    cbg = gpd.read_file('../data_initial/cb_2013_36_bg_500k.shp')   \n",
    "    cbg = cbg.to_crs({'init':'epsg:4326'})\n",
    "    \n",
    "    cbg = cbg[['geometry','GEOID', 'AFFGEOID']]\n",
    "    cbg['GEOID'] = cbg['GEOID'].astype(str)\n",
    "\n",
    "    #merged = gpd.sjoin(cbg, pluto_updated)\n",
    "    #merged = merged.drop(['index_right'],axis=1)\n",
    "    \n",
    "    #merged.to_file('cbg_mappluto.shp',driver='ESRI Shapefile')"
   ]
  },
  {
   "cell_type": "code",
   "execution_count": 9,
   "metadata": {
    "collapsed": false
   },
   "outputs": [],
   "source": [
    "pluto('data_initial/mappluto_13v2.zip','data_initial/cb_2013_36_bg_500k.zip')"
   ]
  },
  {
   "cell_type": "code",
   "execution_count": 10,
   "metadata": {
    "collapsed": false
   },
   "outputs": [
    {
     "data": {
      "text/html": [
       "<div>\n",
       "<table border=\"1\" class=\"dataframe\">\n",
       "  <thead>\n",
       "    <tr style=\"text-align: right;\">\n",
       "      <th></th>\n",
       "      <th>APPBBL</th>\n",
       "      <th>APPDate</th>\n",
       "      <th>Address</th>\n",
       "      <th>AllZoning1</th>\n",
       "      <th>AllZoning2</th>\n",
       "      <th>AreaSource</th>\n",
       "      <th>AssessLand</th>\n",
       "      <th>AssessTot</th>\n",
       "      <th>BBL</th>\n",
       "      <th>BldgArea</th>\n",
       "      <th>...</th>\n",
       "      <th>YearAlter2</th>\n",
       "      <th>YearBuilt</th>\n",
       "      <th>ZMCode</th>\n",
       "      <th>ZipCode</th>\n",
       "      <th>ZoneDist1</th>\n",
       "      <th>ZoneDist2</th>\n",
       "      <th>ZoneDist3</th>\n",
       "      <th>ZoneDist4</th>\n",
       "      <th>ZoneMap</th>\n",
       "      <th>geometry</th>\n",
       "    </tr>\n",
       "  </thead>\n",
       "  <tbody>\n",
       "    <tr>\n",
       "      <th>0</th>\n",
       "      <td>0.000000e+00</td>\n",
       "      <td>None</td>\n",
       "      <td>455 NORTH GANNON AVENUE</td>\n",
       "      <td>R3-1</td>\n",
       "      <td>None</td>\n",
       "      <td>7</td>\n",
       "      <td>11458.0</td>\n",
       "      <td>21392.0</td>\n",
       "      <td>5007510245.0</td>\n",
       "      <td>1216</td>\n",
       "      <td>...</td>\n",
       "      <td>0</td>\n",
       "      <td>1975</td>\n",
       "      <td>None</td>\n",
       "      <td>10314</td>\n",
       "      <td>R3-1</td>\n",
       "      <td>None</td>\n",
       "      <td>None</td>\n",
       "      <td>None</td>\n",
       "      <td>20d</td>\n",
       "      <td>POLYGON ((-74.14420469056387 40.60835763333879...</td>\n",
       "    </tr>\n",
       "    <tr>\n",
       "      <th>1</th>\n",
       "      <td>5.011790e+09</td>\n",
       "      <td>07/12/2005</td>\n",
       "      <td>2 WENLOCK STREET</td>\n",
       "      <td>R3A</td>\n",
       "      <td>None</td>\n",
       "      <td>7</td>\n",
       "      <td>6360.0</td>\n",
       "      <td>19860.0</td>\n",
       "      <td>5011790033.0</td>\n",
       "      <td>1530</td>\n",
       "      <td>...</td>\n",
       "      <td>0</td>\n",
       "      <td>2004</td>\n",
       "      <td>Y</td>\n",
       "      <td>10303</td>\n",
       "      <td>R3A</td>\n",
       "      <td>None</td>\n",
       "      <td>None</td>\n",
       "      <td>None</td>\n",
       "      <td>20c</td>\n",
       "      <td>POLYGON ((-74.14849003806886 40.62654492684894...</td>\n",
       "    </tr>\n",
       "    <tr>\n",
       "      <th>2</th>\n",
       "      <td>0.000000e+00</td>\n",
       "      <td>None</td>\n",
       "      <td>1451 CASTLETON AVENUE</td>\n",
       "      <td>R3A</td>\n",
       "      <td>None</td>\n",
       "      <td>7</td>\n",
       "      <td>3047.0</td>\n",
       "      <td>12441.0</td>\n",
       "      <td>5010180049.0</td>\n",
       "      <td>2140</td>\n",
       "      <td>...</td>\n",
       "      <td>0</td>\n",
       "      <td>1925</td>\n",
       "      <td>None</td>\n",
       "      <td>10302</td>\n",
       "      <td>R3A</td>\n",
       "      <td>None</td>\n",
       "      <td>None</td>\n",
       "      <td>None</td>\n",
       "      <td>21a</td>\n",
       "      <td>POLYGON ((-74.13096647156141 40.63448163837178...</td>\n",
       "    </tr>\n",
       "    <tr>\n",
       "      <th>3</th>\n",
       "      <td>5.008140e+09</td>\n",
       "      <td>07/20/1994</td>\n",
       "      <td>357 BRADLEY AVENUE</td>\n",
       "      <td>R3-1</td>\n",
       "      <td>None</td>\n",
       "      <td>7</td>\n",
       "      <td>7080.0</td>\n",
       "      <td>22380.0</td>\n",
       "      <td>5008140018.0</td>\n",
       "      <td>1800</td>\n",
       "      <td>...</td>\n",
       "      <td>0</td>\n",
       "      <td>1993</td>\n",
       "      <td>None</td>\n",
       "      <td>10314</td>\n",
       "      <td>R3-1</td>\n",
       "      <td>None</td>\n",
       "      <td>None</td>\n",
       "      <td>None</td>\n",
       "      <td>27a</td>\n",
       "      <td>POLYGON ((-74.13085483888224 40.60238841765763...</td>\n",
       "    </tr>\n",
       "    <tr>\n",
       "      <th>4</th>\n",
       "      <td>0.000000e+00</td>\n",
       "      <td>None</td>\n",
       "      <td>72 UNION AVENUE</td>\n",
       "      <td>R3A</td>\n",
       "      <td>None</td>\n",
       "      <td>7</td>\n",
       "      <td>7635.0</td>\n",
       "      <td>16346.0</td>\n",
       "      <td>5012250040.0</td>\n",
       "      <td>2060</td>\n",
       "      <td>...</td>\n",
       "      <td>0</td>\n",
       "      <td>1899</td>\n",
       "      <td>None</td>\n",
       "      <td>10303</td>\n",
       "      <td>R3A</td>\n",
       "      <td>None</td>\n",
       "      <td>None</td>\n",
       "      <td>None</td>\n",
       "      <td>20c</td>\n",
       "      <td>POLYGON ((-74.15813701116035 40.63497208466961...</td>\n",
       "    </tr>\n",
       "  </tbody>\n",
       "</table>\n",
       "<p>5 rows × 86 columns</p>\n",
       "</div>"
      ],
      "text/plain": [
       "         APPBBL     APPDate                  Address AllZoning1 AllZoning2  \\\n",
       "0  0.000000e+00        None  455 NORTH GANNON AVENUE       R3-1       None   \n",
       "1  5.011790e+09  07/12/2005         2 WENLOCK STREET        R3A       None   \n",
       "2  0.000000e+00        None    1451 CASTLETON AVENUE        R3A       None   \n",
       "3  5.008140e+09  07/20/1994       357 BRADLEY AVENUE       R3-1       None   \n",
       "4  0.000000e+00        None          72 UNION AVENUE        R3A       None   \n",
       "\n",
       "  AreaSource  AssessLand  AssessTot           BBL  BldgArea  \\\n",
       "0          7     11458.0    21392.0  5007510245.0      1216   \n",
       "1          7      6360.0    19860.0  5011790033.0      1530   \n",
       "2          7      3047.0    12441.0  5010180049.0      2140   \n",
       "3          7      7080.0    22380.0  5008140018.0      1800   \n",
       "4          7      7635.0    16346.0  5012250040.0      2060   \n",
       "\n",
       "                         ...                         YearAlter2  YearBuilt  \\\n",
       "0                        ...                                  0       1975   \n",
       "1                        ...                                  0       2004   \n",
       "2                        ...                                  0       1925   \n",
       "3                        ...                                  0       1993   \n",
       "4                        ...                                  0       1899   \n",
       "\n",
       "   ZMCode  ZipCode  ZoneDist1 ZoneDist2 ZoneDist3 ZoneDist4  ZoneMap  \\\n",
       "0    None    10314       R3-1      None      None      None      20d   \n",
       "1       Y    10303        R3A      None      None      None      20c   \n",
       "2    None    10302        R3A      None      None      None      21a   \n",
       "3    None    10314       R3-1      None      None      None      27a   \n",
       "4    None    10303        R3A      None      None      None      20c   \n",
       "\n",
       "                                            geometry  \n",
       "0  POLYGON ((-74.14420469056387 40.60835763333879...  \n",
       "1  POLYGON ((-74.14849003806886 40.62654492684894...  \n",
       "2  POLYGON ((-74.13096647156141 40.63448163837178...  \n",
       "3  POLYGON ((-74.13085483888224 40.60238841765763...  \n",
       "4  POLYGON ((-74.15813701116035 40.63497208466961...  \n",
       "\n",
       "[5 rows x 86 columns]"
      ]
     },
     "execution_count": 10,
     "metadata": {},
     "output_type": "execute_result"
    }
   ],
   "source": [
    "pluto_updated.head()"
   ]
  },
  {
   "cell_type": "code",
   "execution_count": 11,
   "metadata": {
    "collapsed": false
   },
   "outputs": [
    {
     "data": {
      "text/html": [
       "<div>\n",
       "<table border=\"1\" class=\"dataframe\">\n",
       "  <thead>\n",
       "    <tr style=\"text-align: right;\">\n",
       "      <th></th>\n",
       "      <th>geometry</th>\n",
       "      <th>GEOID</th>\n",
       "      <th>AFFGEOID</th>\n",
       "    </tr>\n",
       "  </thead>\n",
       "  <tbody>\n",
       "    <tr>\n",
       "      <th>0</th>\n",
       "      <td>POLYGON ((-74.0077100448287 40.5986709706622, ...</td>\n",
       "      <td>360470282001</td>\n",
       "      <td>1500000US360470282001</td>\n",
       "    </tr>\n",
       "    <tr>\n",
       "      <th>1</th>\n",
       "      <td>POLYGON ((-74.171216 40.637436, -74.1682139999...</td>\n",
       "      <td>360850319022</td>\n",
       "      <td>1500000US360850319022</td>\n",
       "    </tr>\n",
       "    <tr>\n",
       "      <th>2</th>\n",
       "      <td>POLYGON ((-77.60430099999999 43.25373099999999...</td>\n",
       "      <td>360550101005</td>\n",
       "      <td>1500000US360550101005</td>\n",
       "    </tr>\n",
       "    <tr>\n",
       "      <th>3</th>\n",
       "      <td>POLYGON ((-73.944879 40.834059, -73.942032 40....</td>\n",
       "      <td>360610241004</td>\n",
       "      <td>1500000US360610241004</td>\n",
       "    </tr>\n",
       "    <tr>\n",
       "      <th>4</th>\n",
       "      <td>POLYGON ((-73.898499 40.920275, -73.8980740000...</td>\n",
       "      <td>361190002014</td>\n",
       "      <td>1500000US361190002014</td>\n",
       "    </tr>\n",
       "  </tbody>\n",
       "</table>\n",
       "</div>"
      ],
      "text/plain": [
       "                                            geometry         GEOID  \\\n",
       "0  POLYGON ((-74.0077100448287 40.5986709706622, ...  360470282001   \n",
       "1  POLYGON ((-74.171216 40.637436, -74.1682139999...  360850319022   \n",
       "2  POLYGON ((-77.60430099999999 43.25373099999999...  360550101005   \n",
       "3  POLYGON ((-73.944879 40.834059, -73.942032 40....  360610241004   \n",
       "4  POLYGON ((-73.898499 40.920275, -73.8980740000...  361190002014   \n",
       "\n",
       "                AFFGEOID  \n",
       "0  1500000US360470282001  \n",
       "1  1500000US360850319022  \n",
       "2  1500000US360550101005  \n",
       "3  1500000US360610241004  \n",
       "4  1500000US361190002014  "
      ]
     },
     "execution_count": 11,
     "metadata": {},
     "output_type": "execute_result"
    }
   ],
   "source": [
    "cbg.head()"
   ]
  },
  {
   "cell_type": "code",
   "execution_count": 12,
   "metadata": {
    "collapsed": false
   },
   "outputs": [
    {
     "name": "stdout",
     "output_type": "stream",
     "text": [
      "{'init': 'epsg:4326'}\n",
      "{'init': 'epsg:4326'}\n"
     ]
    }
   ],
   "source": [
    "print cbg.crs\n",
    "print pluto_updated.crs"
   ]
  },
  {
   "cell_type": "code",
   "execution_count": 13,
   "metadata": {
    "collapsed": false
   },
   "outputs": [
    {
     "data": {
      "text/plain": [
       "geometry    0\n",
       "GEOID       0\n",
       "AFFGEOID    0\n",
       "dtype: int64"
      ]
     },
     "execution_count": 13,
     "metadata": {},
     "output_type": "execute_result"
    }
   ],
   "source": [
    "cbg.isnull().sum()"
   ]
  },
  {
   "cell_type": "code",
   "execution_count": 14,
   "metadata": {
    "collapsed": false
   },
   "outputs": [
    {
     "data": {
      "text/plain": [
       "APPBBL             0\n",
       "APPDate       776361\n",
       "Address          987\n",
       "AllZoning1       916\n",
       "AllZoning2    833166\n",
       "AreaSource         0\n",
       "AssessLand         0\n",
       "AssessTot          0\n",
       "BBL                0\n",
       "BldgArea           0\n",
       "BldgClass        980\n",
       "BldgDepth          0\n",
       "BldgFront          0\n",
       "Block              0\n",
       "BoroCode           0\n",
       "Borough            0\n",
       "BsmtCode         980\n",
       "BuiltCode     259213\n",
       "BuiltFAR           0\n",
       "CB2010         22751\n",
       "CD                 0\n",
       "CT2010          5013\n",
       "ComArea            0\n",
       "CommFAR            0\n",
       "CondoNo            0\n",
       "Council            0\n",
       "EDesigNum     849676\n",
       "Easements          0\n",
       "ExemptLand         0\n",
       "ExemptTot          0\n",
       "               ...  \n",
       "ProxCode         980\n",
       "ResArea            0\n",
       "ResidFAR           0\n",
       "RetailArea         0\n",
       "SHAPE_Area         0\n",
       "SHAPE_Leng         0\n",
       "SPDist1       762794\n",
       "SPDist2       857939\n",
       "Sanborn          560\n",
       "SchoolDist      3522\n",
       "SplitZone        980\n",
       "StrgeArea          0\n",
       "TaxMap           560\n",
       "Tract2010          0\n",
       "UnitsRes           0\n",
       "UnitsTotal         0\n",
       "Version            0\n",
       "XCoord             0\n",
       "YCoord             0\n",
       "YearAlter1         0\n",
       "YearAlter2         0\n",
       "YearBuilt          0\n",
       "ZMCode        842361\n",
       "ZipCode            0\n",
       "ZoneDist1        916\n",
       "ZoneDist2     833166\n",
       "ZoneDist3     857671\n",
       "ZoneDist4     857973\n",
       "ZoneMap            0\n",
       "geometry           0\n",
       "dtype: int64"
      ]
     },
     "execution_count": 14,
     "metadata": {},
     "output_type": "execute_result"
    }
   ],
   "source": [
    "pluto_updated.isnull().sum()"
   ]
  },
  {
   "cell_type": "code",
   "execution_count": 15,
   "metadata": {
    "collapsed": false
   },
   "outputs": [
    {
     "ename": "RTreeError",
     "evalue": "Coordinates must be in the form (minx, miny, maxx, maxy) or (x, y) for 2D indexes",
     "output_type": "error",
     "traceback": [
      "\u001b[0;31m---------------------------------------------------------------------------\u001b[0m",
      "\u001b[0;31mRTreeError\u001b[0m                                Traceback (most recent call last)",
      "\u001b[0;32m<ipython-input-15-2fa42ad1bc00>\u001b[0m in \u001b[0;36m<module>\u001b[0;34m()\u001b[0m\n\u001b[0;32m----> 1\u001b[0;31m \u001b[0mmerged\u001b[0m \u001b[0;34m=\u001b[0m \u001b[0mgpd\u001b[0m\u001b[0;34m.\u001b[0m\u001b[0msjoin\u001b[0m\u001b[0;34m(\u001b[0m\u001b[0mcbg\u001b[0m\u001b[0;34m,\u001b[0m \u001b[0mpluto_updated\u001b[0m\u001b[0;34m)\u001b[0m\u001b[0;34m\u001b[0m\u001b[0m\n\u001b[0m",
      "\u001b[0;32m/Users/kristikorsberg/devel/venv/lib/python2.7/site-packages/geopandas/tools/sjoin.pyc\u001b[0m in \u001b[0;36msjoin\u001b[0;34m(left_df, right_df, how, op, lsuffix, rsuffix)\u001b[0m\n\u001b[1;32m     49\u001b[0m     \u001b[0mright_df_bounds\u001b[0m \u001b[0;34m=\u001b[0m \u001b[0mright_df\u001b[0m\u001b[0;34m[\u001b[0m\u001b[0;34m'geometry'\u001b[0m\u001b[0;34m]\u001b[0m\u001b[0;34m.\u001b[0m\u001b[0mapply\u001b[0m\u001b[0;34m(\u001b[0m\u001b[0;32mlambda\u001b[0m \u001b[0mx\u001b[0m\u001b[0;34m:\u001b[0m \u001b[0mx\u001b[0m\u001b[0;34m.\u001b[0m\u001b[0mbounds\u001b[0m\u001b[0;34m)\u001b[0m\u001b[0;34m\u001b[0m\u001b[0m\n\u001b[1;32m     50\u001b[0m     \u001b[0;32mfor\u001b[0m \u001b[0mi\u001b[0m \u001b[0;32min\u001b[0m \u001b[0mright_df_bounds\u001b[0m\u001b[0;34m.\u001b[0m\u001b[0mindex\u001b[0m\u001b[0;34m:\u001b[0m\u001b[0;34m\u001b[0m\u001b[0m\n\u001b[0;32m---> 51\u001b[0;31m         \u001b[0mtree_idx\u001b[0m\u001b[0;34m.\u001b[0m\u001b[0minsert\u001b[0m\u001b[0;34m(\u001b[0m\u001b[0mi\u001b[0m\u001b[0;34m,\u001b[0m \u001b[0mright_df_bounds\u001b[0m\u001b[0;34m[\u001b[0m\u001b[0mi\u001b[0m\u001b[0;34m]\u001b[0m\u001b[0;34m)\u001b[0m\u001b[0;34m\u001b[0m\u001b[0m\n\u001b[0m\u001b[1;32m     52\u001b[0m \u001b[0;34m\u001b[0m\u001b[0m\n\u001b[1;32m     53\u001b[0m     idxmatch = (left_df['geometry'].apply(lambda x: x.bounds)\n",
      "\u001b[0;32m/Users/kristikorsberg/devel/venv/lib/python2.7/site-packages/rtree/index.pyc\u001b[0m in \u001b[0;36minsert\u001b[0;34m(self, id, coordinates, obj)\u001b[0m\n\u001b[1;32m    367\u001b[0m \u001b[0;34m\u001b[0m\u001b[0m\n\u001b[1;32m    368\u001b[0m         \"\"\"\n\u001b[0;32m--> 369\u001b[0;31m         \u001b[0mp_mins\u001b[0m\u001b[0;34m,\u001b[0m \u001b[0mp_maxs\u001b[0m \u001b[0;34m=\u001b[0m \u001b[0mself\u001b[0m\u001b[0;34m.\u001b[0m\u001b[0mget_coordinate_pointers\u001b[0m\u001b[0;34m(\u001b[0m\u001b[0mcoordinates\u001b[0m\u001b[0;34m)\u001b[0m\u001b[0;34m\u001b[0m\u001b[0m\n\u001b[0m\u001b[1;32m    370\u001b[0m         \u001b[0mdata\u001b[0m \u001b[0;34m=\u001b[0m \u001b[0mctypes\u001b[0m\u001b[0;34m.\u001b[0m\u001b[0mc_ubyte\u001b[0m\u001b[0;34m(\u001b[0m\u001b[0;36m0\u001b[0m\u001b[0;34m)\u001b[0m\u001b[0;34m\u001b[0m\u001b[0m\n\u001b[1;32m    371\u001b[0m         \u001b[0msize\u001b[0m \u001b[0;34m=\u001b[0m \u001b[0;36m0\u001b[0m\u001b[0;34m\u001b[0m\u001b[0m\n",
      "\u001b[0;32m/Users/kristikorsberg/devel/venv/lib/python2.7/site-packages/rtree/index.pyc\u001b[0m in \u001b[0;36mget_coordinate_pointers\u001b[0;34m(self, coordinates)\u001b[0m\n\u001b[1;32m    310\u001b[0m         \u001b[0;32mif\u001b[0m \u001b[0mlen\u001b[0m\u001b[0;34m(\u001b[0m\u001b[0mcoordinates\u001b[0m\u001b[0;34m)\u001b[0m \u001b[0;34m!=\u001b[0m \u001b[0mdimension\u001b[0m \u001b[0;34m*\u001b[0m \u001b[0;36m2\u001b[0m\u001b[0;34m:\u001b[0m\u001b[0;34m\u001b[0m\u001b[0m\n\u001b[1;32m    311\u001b[0m             raise core.RTreeError(\n\u001b[0;32m--> 312\u001b[0;31m                 \u001b[0;34m\"Coordinates must be in the form \"\u001b[0m\u001b[0;34m\u001b[0m\u001b[0m\n\u001b[0m\u001b[1;32m    313\u001b[0m                 \"(minx, miny, maxx, maxy) or (x, y) for 2D indexes\")\n\u001b[1;32m    314\u001b[0m \u001b[0;34m\u001b[0m\u001b[0m\n",
      "\u001b[0;31mRTreeError\u001b[0m: Coordinates must be in the form (minx, miny, maxx, maxy) or (x, y) for 2D indexes"
     ]
    }
   ],
   "source": [
    "merged = gpd.sjoin(cbg, pluto_updated)"
   ]
  },
  {
   "cell_type": "code",
   "execution_count": null,
   "metadata": {
    "collapsed": true
   },
   "outputs": [],
   "source": []
  }
 ],
 "metadata": {
  "kernelspec": {
   "display_name": "Python 2",
   "language": "python",
   "name": "python2"
  },
  "language_info": {
   "codemirror_mode": {
    "name": "ipython",
    "version": 2
   },
   "file_extension": ".py",
   "mimetype": "text/x-python",
   "name": "python",
   "nbconvert_exporter": "python",
   "pygments_lexer": "ipython2",
   "version": "2.7.12"
  }
 },
 "nbformat": 4,
 "nbformat_minor": 1
}
