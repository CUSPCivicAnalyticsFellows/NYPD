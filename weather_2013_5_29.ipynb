{
 "cells": [
  {
   "cell_type": "code",
   "execution_count": 1,
   "metadata": {
    "collapsed": true
   },
   "outputs": [],
   "source": [
    "from json import loads \n",
    "import urllib2\n",
    "from datetime import datetime, timedelta \n",
    "import json\n",
    "import pandas as pd"
   ]
  },
  {
   "cell_type": "code",
   "execution_count": 2,
   "metadata": {
    "collapsed": false
   },
   "outputs": [],
   "source": [
    "base = datetime.strptime('1/1/2013', '%m/%d/%Y')\n",
    "date_list = [base + timedelta(days=x) for x in range(0, (365*3))]"
   ]
  },
  {
   "cell_type": "code",
   "execution_count": null,
   "metadata": {
    "collapsed": true
   },
   "outputs": [],
   "source": [
    "base1 = datetime.strptime('1/1/2014', '%m/%d/%Y')\n",
    "date_list1 = [base1 + timedelta(days=x) for x in range(0, (365))]"
   ]
  },
  {
   "cell_type": "code",
   "execution_count": null,
   "metadata": {
    "collapsed": true
   },
   "outputs": [],
   "source": [
    "base2 = datetime.strptime('1/1/2014', '%m/%d/%Y')\n",
    "date_list2 = [base2 + timedelta(days=x) for x in range(0, (365))]"
   ]
  },
  {
   "cell_type": "code",
   "execution_count": 3,
   "metadata": {
    "collapsed": false
   },
   "outputs": [
    {
     "data": {
      "text/plain": [
       "datetime.datetime(2015, 12, 31, 0, 0)"
      ]
     },
     "execution_count": 3,
     "metadata": {},
     "output_type": "execute_result"
    }
   ],
   "source": [
    "date_list[-1]"
   ]
  },
  {
   "cell_type": "code",
   "execution_count": 21,
   "metadata": {
    "collapsed": false
   },
   "outputs": [],
   "source": [
    "weather = {}\n",
    "for date in date_list[:90]:\n",
    "    h = urllib2.urlopen('http://api.wunderground.com/api/2c7389076c464042/history_'+str(date.strftime(\"%Y-%m-%d\").replace('-',''))+'/q/NY/New_York.json')\n",
    "    json_string = h.read()\n",
    "    parsed_json = json.loads(json_string)\n",
    "    weather[parsed_json['history']['utcdate']['pretty']]=parsed_json['history']['dailysummary'][0]['mintempi'],\\\n",
    "    parsed_json['history']['dailysummary'][0]['maxtempi'], parsed_json['history']['dailysummary'][0]['meantempi'], \\\n",
    "    parsed_json['history']['observations'][0]['icon'], parsed_json['history']['dailysummary'][0]['snow'], \\\n",
    "    parsed_json['history']['dailysummary'][0]['fog'], parsed_json['history']['dailysummary'][0]['rain']\n",
    "h.close()"
   ]
  },
  {
   "cell_type": "code",
   "execution_count": 22,
   "metadata": {
    "collapsed": false
   },
   "outputs": [
    {
     "data": {
      "text/html": [
       "<div>\n",
       "<table border=\"1\" class=\"dataframe\">\n",
       "  <thead>\n",
       "    <tr style=\"text-align: right;\">\n",
       "      <th></th>\n",
       "      <th>index</th>\n",
       "      <th>min_temp</th>\n",
       "      <th>max_temp</th>\n",
       "      <th>avg_temp</th>\n",
       "      <th>icon</th>\n",
       "      <th>snow</th>\n",
       "      <th>fog</th>\n",
       "      <th>rain</th>\n",
       "    </tr>\n",
       "  </thead>\n",
       "  <tbody>\n",
       "    <tr>\n",
       "      <th>0</th>\n",
       "      <td>February 1, 2013</td>\n",
       "      <td>24</td>\n",
       "      <td>31</td>\n",
       "      <td>28</td>\n",
       "      <td>clear</td>\n",
       "      <td>0</td>\n",
       "      <td>0</td>\n",
       "      <td>0</td>\n",
       "    </tr>\n",
       "    <tr>\n",
       "      <th>1</th>\n",
       "      <td>February 10, 2013</td>\n",
       "      <td>18</td>\n",
       "      <td>36</td>\n",
       "      <td>27</td>\n",
       "      <td>clear</td>\n",
       "      <td>0</td>\n",
       "      <td>0</td>\n",
       "      <td>0</td>\n",
       "    </tr>\n",
       "    <tr>\n",
       "      <th>2</th>\n",
       "      <td>February 11, 2013</td>\n",
       "      <td>34</td>\n",
       "      <td>45</td>\n",
       "      <td>40</td>\n",
       "      <td>clear</td>\n",
       "      <td>0</td>\n",
       "      <td>1</td>\n",
       "      <td>1</td>\n",
       "    </tr>\n",
       "    <tr>\n",
       "      <th>3</th>\n",
       "      <td>February 12, 2013</td>\n",
       "      <td>36</td>\n",
       "      <td>44</td>\n",
       "      <td>40</td>\n",
       "      <td>partlycloudy</td>\n",
       "      <td>0</td>\n",
       "      <td>0</td>\n",
       "      <td>0</td>\n",
       "    </tr>\n",
       "    <tr>\n",
       "      <th>4</th>\n",
       "      <td>February 13, 2013</td>\n",
       "      <td>33</td>\n",
       "      <td>44</td>\n",
       "      <td>39</td>\n",
       "      <td>clear</td>\n",
       "      <td>1</td>\n",
       "      <td>0</td>\n",
       "      <td>0</td>\n",
       "    </tr>\n",
       "  </tbody>\n",
       "</table>\n",
       "</div>"
      ],
      "text/plain": [
       "               index min_temp max_temp avg_temp          icon snow fog rain\n",
       "0   February 1, 2013       24       31       28         clear    0   0    0\n",
       "1  February 10, 2013       18       36       27         clear    0   0    0\n",
       "2  February 11, 2013       34       45       40         clear    0   1    1\n",
       "3  February 12, 2013       36       44       40  partlycloudy    0   0    0\n",
       "4  February 13, 2013       33       44       39         clear    1   0    0"
      ]
     },
     "execution_count": 22,
     "metadata": {},
     "output_type": "execute_result"
    }
   ],
   "source": [
    "weather0 = pd.DataFrame(weather).T.rename(columns={0:'min_temp', 1:'max_temp', 2:'avg_temp', 3:'icon', 4:'snow', 5:'fog', 6:'rain'})\n",
    "weather0 = weather0.reset_index()\n",
    "weather0.head()"
   ]
  },
  {
   "cell_type": "code",
   "execution_count": 11,
   "metadata": {
    "collapsed": true
   },
   "outputs": [],
   "source": [
    "weather = {}\n",
    "for date in date_list[90:180]:\n",
    "    h = urllib2.urlopen('http://api.wunderground.com/api/2c7389076c464042/history_'+str(date.strftime(\"%Y-%m-%d\").replace('-',''))+'/q/NY/New_York.json')\n",
    "    json_string = h.read()\n",
    "    parsed_json = json.loads(json_string)\n",
    "    weather[parsed_json['history']['utcdate']['pretty']]=parsed_json['history']['dailysummary'][0]['mintempi'],\\\n",
    "    parsed_json['history']['dailysummary'][0]['maxtempi'], parsed_json['history']['dailysummary'][0]['meantempi'], \\\n",
    "    parsed_json['history']['observations'][0]['icon'], parsed_json['history']['dailysummary'][0]['snow'], \\\n",
    "    parsed_json['history']['dailysummary'][0]['fog'], parsed_json['history']['dailysummary'][0]['rain']\n",
    "h.close()"
   ]
  },
  {
   "cell_type": "code",
   "execution_count": 12,
   "metadata": {
    "collapsed": false
   },
   "outputs": [
    {
     "data": {
      "text/html": [
       "<div>\n",
       "<table border=\"1\" class=\"dataframe\">\n",
       "  <thead>\n",
       "    <tr style=\"text-align: right;\">\n",
       "      <th></th>\n",
       "      <th>index</th>\n",
       "      <th>min_temp</th>\n",
       "      <th>max_temp</th>\n",
       "      <th>avg_temp</th>\n",
       "      <th>icon</th>\n",
       "      <th>snow</th>\n",
       "      <th>fog</th>\n",
       "      <th>rain</th>\n",
       "    </tr>\n",
       "  </thead>\n",
       "  <tbody>\n",
       "    <tr>\n",
       "      <th>0</th>\n",
       "      <td>April 1, 2013</td>\n",
       "      <td>37</td>\n",
       "      <td>62</td>\n",
       "      <td>50</td>\n",
       "      <td>cloudy</td>\n",
       "      <td>0</td>\n",
       "      <td>0</td>\n",
       "      <td>1</td>\n",
       "    </tr>\n",
       "    <tr>\n",
       "      <th>1</th>\n",
       "      <td>April 10, 2013</td>\n",
       "      <td>55</td>\n",
       "      <td>74</td>\n",
       "      <td>65</td>\n",
       "      <td>mostlycloudy</td>\n",
       "      <td>0</td>\n",
       "      <td>0</td>\n",
       "      <td>1</td>\n",
       "    </tr>\n",
       "    <tr>\n",
       "      <th>2</th>\n",
       "      <td>April 11, 2013</td>\n",
       "      <td>47</td>\n",
       "      <td>60</td>\n",
       "      <td>54</td>\n",
       "      <td>cloudy</td>\n",
       "      <td>0</td>\n",
       "      <td>0</td>\n",
       "      <td>0</td>\n",
       "    </tr>\n",
       "    <tr>\n",
       "      <th>3</th>\n",
       "      <td>April 12, 2013</td>\n",
       "      <td>41</td>\n",
       "      <td>47</td>\n",
       "      <td>44</td>\n",
       "      <td>cloudy</td>\n",
       "      <td>0</td>\n",
       "      <td>0</td>\n",
       "      <td>1</td>\n",
       "    </tr>\n",
       "    <tr>\n",
       "      <th>4</th>\n",
       "      <td>April 13, 2013</td>\n",
       "      <td>41</td>\n",
       "      <td>58</td>\n",
       "      <td>50</td>\n",
       "      <td>rain</td>\n",
       "      <td>0</td>\n",
       "      <td>0</td>\n",
       "      <td>1</td>\n",
       "    </tr>\n",
       "  </tbody>\n",
       "</table>\n",
       "</div>"
      ],
      "text/plain": [
       "            index min_temp max_temp avg_temp          icon snow fog rain\n",
       "0   April 1, 2013       37       62       50        cloudy    0   0    1\n",
       "1  April 10, 2013       55       74       65  mostlycloudy    0   0    1\n",
       "2  April 11, 2013       47       60       54        cloudy    0   0    0\n",
       "3  April 12, 2013       41       47       44        cloudy    0   0    1\n",
       "4  April 13, 2013       41       58       50          rain    0   0    1"
      ]
     },
     "execution_count": 12,
     "metadata": {},
     "output_type": "execute_result"
    }
   ],
   "source": [
    "weather1 = pd.DataFrame(weather).T.rename(columns={0:'min_temp', 1:'max_temp', 2:'avg_temp', 3:'icon', 4:'snow', 5:'fog', 6:'rain'})\n",
    "weather1 = weather1.reset_index()\n",
    "weather1.head()"
   ]
  },
  {
   "cell_type": "code",
   "execution_count": 13,
   "metadata": {
    "collapsed": true
   },
   "outputs": [],
   "source": [
    "weather = {}\n",
    "for date in date_list[180:270]:\n",
    "    h = urllib2.urlopen('http://api.wunderground.com/api/2c7389076c464042/history_'+str(date.strftime(\"%Y-%m-%d\").replace('-',''))+'/q/NY/New_York.json')\n",
    "    json_string = h.read()\n",
    "    parsed_json = json.loads(json_string)\n",
    "    weather[parsed_json['history']['utcdate']['pretty']]=parsed_json['history']['dailysummary'][0]['mintempi'],\\\n",
    "    parsed_json['history']['dailysummary'][0]['maxtempi'], parsed_json['history']['dailysummary'][0]['meantempi'], \\\n",
    "    parsed_json['history']['observations'][0]['icon'], parsed_json['history']['dailysummary'][0]['snow'], \\\n",
    "    parsed_json['history']['dailysummary'][0]['fog'], parsed_json['history']['dailysummary'][0]['rain']\n",
    "h.close()"
   ]
  },
  {
   "cell_type": "code",
   "execution_count": 14,
   "metadata": {
    "collapsed": false
   },
   "outputs": [
    {
     "data": {
      "text/html": [
       "<div>\n",
       "<table border=\"1\" class=\"dataframe\">\n",
       "  <thead>\n",
       "    <tr style=\"text-align: right;\">\n",
       "      <th></th>\n",
       "      <th>index</th>\n",
       "      <th>min_temp</th>\n",
       "      <th>max_temp</th>\n",
       "      <th>avg_temp</th>\n",
       "      <th>icon</th>\n",
       "      <th>snow</th>\n",
       "      <th>fog</th>\n",
       "      <th>rain</th>\n",
       "    </tr>\n",
       "  </thead>\n",
       "  <tbody>\n",
       "    <tr>\n",
       "      <th>0</th>\n",
       "      <td>August 1, 2013</td>\n",
       "      <td>66</td>\n",
       "      <td>76</td>\n",
       "      <td>71</td>\n",
       "      <td>clear</td>\n",
       "      <td>0</td>\n",
       "      <td>1</td>\n",
       "      <td>1</td>\n",
       "    </tr>\n",
       "    <tr>\n",
       "      <th>1</th>\n",
       "      <td>August 10, 2013</td>\n",
       "      <td>70</td>\n",
       "      <td>83</td>\n",
       "      <td>77</td>\n",
       "      <td>clear</td>\n",
       "      <td>0</td>\n",
       "      <td>0</td>\n",
       "      <td>0</td>\n",
       "    </tr>\n",
       "    <tr>\n",
       "      <th>2</th>\n",
       "      <td>August 11, 2013</td>\n",
       "      <td>65</td>\n",
       "      <td>81</td>\n",
       "      <td>73</td>\n",
       "      <td>clear</td>\n",
       "      <td>0</td>\n",
       "      <td>0</td>\n",
       "      <td>0</td>\n",
       "    </tr>\n",
       "    <tr>\n",
       "      <th>3</th>\n",
       "      <td>August 12, 2013</td>\n",
       "      <td>70</td>\n",
       "      <td>82</td>\n",
       "      <td>76</td>\n",
       "      <td>cloudy</td>\n",
       "      <td>0</td>\n",
       "      <td>0</td>\n",
       "      <td>1</td>\n",
       "    </tr>\n",
       "    <tr>\n",
       "      <th>4</th>\n",
       "      <td>August 13, 2013</td>\n",
       "      <td>68</td>\n",
       "      <td>77</td>\n",
       "      <td>73</td>\n",
       "      <td>clear</td>\n",
       "      <td>0</td>\n",
       "      <td>0</td>\n",
       "      <td>1</td>\n",
       "    </tr>\n",
       "  </tbody>\n",
       "</table>\n",
       "</div>"
      ],
      "text/plain": [
       "             index min_temp max_temp avg_temp    icon snow fog rain\n",
       "0   August 1, 2013       66       76       71   clear    0   1    1\n",
       "1  August 10, 2013       70       83       77   clear    0   0    0\n",
       "2  August 11, 2013       65       81       73   clear    0   0    0\n",
       "3  August 12, 2013       70       82       76  cloudy    0   0    1\n",
       "4  August 13, 2013       68       77       73   clear    0   0    1"
      ]
     },
     "execution_count": 14,
     "metadata": {},
     "output_type": "execute_result"
    }
   ],
   "source": [
    "weather2 = pd.DataFrame(weather).T.rename(columns={0:'min_temp', 1:'max_temp', 2:'avg_temp', 3:'icon', 4:'snow', 5:'fog', 6:'rain'})\n",
    "weather2 = weather2.reset_index()\n",
    "weather2.head()"
   ]
  },
  {
   "cell_type": "code",
   "execution_count": 15,
   "metadata": {
    "collapsed": true
   },
   "outputs": [],
   "source": [
    "weather = {}\n",
    "for date in date_list[270:360]:\n",
    "    h = urllib2.urlopen('http://api.wunderground.com/api/2c7389076c464042/history_'+str(date.strftime(\"%Y-%m-%d\").replace('-',''))+'/q/NY/New_York.json')\n",
    "    json_string = h.read()\n",
    "    parsed_json = json.loads(json_string)\n",
    "    weather[parsed_json['history']['utcdate']['pretty']]=parsed_json['history']['dailysummary'][0]['mintempi'],\\\n",
    "    parsed_json['history']['dailysummary'][0]['maxtempi'], parsed_json['history']['dailysummary'][0]['meantempi'], \\\n",
    "    parsed_json['history']['observations'][0]['icon'], parsed_json['history']['dailysummary'][0]['snow'], \\\n",
    "    parsed_json['history']['dailysummary'][0]['fog'], parsed_json['history']['dailysummary'][0]['rain']\n",
    "h.close()"
   ]
  },
  {
   "cell_type": "code",
   "execution_count": 16,
   "metadata": {
    "collapsed": false
   },
   "outputs": [
    {
     "data": {
      "text/html": [
       "<div>\n",
       "<table border=\"1\" class=\"dataframe\">\n",
       "  <thead>\n",
       "    <tr style=\"text-align: right;\">\n",
       "      <th></th>\n",
       "      <th>index</th>\n",
       "      <th>min_temp</th>\n",
       "      <th>max_temp</th>\n",
       "      <th>avg_temp</th>\n",
       "      <th>icon</th>\n",
       "      <th>snow</th>\n",
       "      <th>fog</th>\n",
       "      <th>rain</th>\n",
       "    </tr>\n",
       "  </thead>\n",
       "  <tbody>\n",
       "    <tr>\n",
       "      <th>0</th>\n",
       "      <td>December 1, 2013</td>\n",
       "      <td>36</td>\n",
       "      <td>49</td>\n",
       "      <td>43</td>\n",
       "      <td>cloudy</td>\n",
       "      <td>0</td>\n",
       "      <td>0</td>\n",
       "      <td>0</td>\n",
       "    </tr>\n",
       "    <tr>\n",
       "      <th>1</th>\n",
       "      <td>December 10, 2013</td>\n",
       "      <td>30</td>\n",
       "      <td>37</td>\n",
       "      <td>34</td>\n",
       "      <td>clear</td>\n",
       "      <td>1</td>\n",
       "      <td>1</td>\n",
       "      <td>0</td>\n",
       "    </tr>\n",
       "    <tr>\n",
       "      <th>2</th>\n",
       "      <td>December 11, 2013</td>\n",
       "      <td>27</td>\n",
       "      <td>33</td>\n",
       "      <td>30</td>\n",
       "      <td>clear</td>\n",
       "      <td>0</td>\n",
       "      <td>0</td>\n",
       "      <td>0</td>\n",
       "    </tr>\n",
       "    <tr>\n",
       "      <th>3</th>\n",
       "      <td>December 12, 2013</td>\n",
       "      <td>23</td>\n",
       "      <td>30</td>\n",
       "      <td>27</td>\n",
       "      <td>clear</td>\n",
       "      <td>0</td>\n",
       "      <td>0</td>\n",
       "      <td>0</td>\n",
       "    </tr>\n",
       "    <tr>\n",
       "      <th>4</th>\n",
       "      <td>December 13, 2013</td>\n",
       "      <td>23</td>\n",
       "      <td>35</td>\n",
       "      <td>29</td>\n",
       "      <td>partlycloudy</td>\n",
       "      <td>0</td>\n",
       "      <td>0</td>\n",
       "      <td>0</td>\n",
       "    </tr>\n",
       "  </tbody>\n",
       "</table>\n",
       "</div>"
      ],
      "text/plain": [
       "               index min_temp max_temp avg_temp          icon snow fog rain\n",
       "0   December 1, 2013       36       49       43        cloudy    0   0    0\n",
       "1  December 10, 2013       30       37       34         clear    1   1    0\n",
       "2  December 11, 2013       27       33       30         clear    0   0    0\n",
       "3  December 12, 2013       23       30       27         clear    0   0    0\n",
       "4  December 13, 2013       23       35       29  partlycloudy    0   0    0"
      ]
     },
     "execution_count": 16,
     "metadata": {},
     "output_type": "execute_result"
    }
   ],
   "source": [
    "weather3 = pd.DataFrame(weather).T.rename(columns={0:'min_temp', 1:'max_temp', 2:'avg_temp', 3:'icon', 4:'snow', 5:'fog', 6:'rain'})\n",
    "weather3 = weather3.reset_index()\n",
    "weather3.head()"
   ]
  },
  {
   "cell_type": "code",
   "execution_count": 17,
   "metadata": {
    "collapsed": true
   },
   "outputs": [],
   "source": [
    "weather = {}\n",
    "for date in date_list[360:366]:\n",
    "    h = urllib2.urlopen('http://api.wunderground.com/api/2c7389076c464042/history_'+str(date.strftime(\"%Y-%m-%d\").replace('-',''))+'/q/NY/New_York.json')\n",
    "    json_string = h.read()\n",
    "    parsed_json = json.loads(json_string)\n",
    "    weather[parsed_json['history']['utcdate']['pretty']]=parsed_json['history']['dailysummary'][0]['mintempi'],\\\n",
    "    parsed_json['history']['dailysummary'][0]['maxtempi'], parsed_json['history']['dailysummary'][0]['meantempi'], \\\n",
    "    parsed_json['history']['observations'][0]['icon'], parsed_json['history']['dailysummary'][0]['snow'], \\\n",
    "    parsed_json['history']['dailysummary'][0]['fog'], parsed_json['history']['dailysummary'][0]['rain']\n",
    "h.close()"
   ]
  },
  {
   "cell_type": "code",
   "execution_count": 18,
   "metadata": {
    "collapsed": false
   },
   "outputs": [
    {
     "data": {
      "text/html": [
       "<div>\n",
       "<table border=\"1\" class=\"dataframe\">\n",
       "  <thead>\n",
       "    <tr style=\"text-align: right;\">\n",
       "      <th></th>\n",
       "      <th>index</th>\n",
       "      <th>min_temp</th>\n",
       "      <th>max_temp</th>\n",
       "      <th>avg_temp</th>\n",
       "      <th>icon</th>\n",
       "      <th>snow</th>\n",
       "      <th>fog</th>\n",
       "      <th>rain</th>\n",
       "    </tr>\n",
       "  </thead>\n",
       "  <tbody>\n",
       "    <tr>\n",
       "      <th>0</th>\n",
       "      <td>December 27, 2013</td>\n",
       "      <td>31</td>\n",
       "      <td>40</td>\n",
       "      <td>36</td>\n",
       "      <td>clear</td>\n",
       "      <td>0</td>\n",
       "      <td>0</td>\n",
       "      <td>0</td>\n",
       "    </tr>\n",
       "    <tr>\n",
       "      <th>1</th>\n",
       "      <td>December 28, 2013</td>\n",
       "      <td>36</td>\n",
       "      <td>55</td>\n",
       "      <td>46</td>\n",
       "      <td>clear</td>\n",
       "      <td>0</td>\n",
       "      <td>0</td>\n",
       "      <td>0</td>\n",
       "    </tr>\n",
       "    <tr>\n",
       "      <th>2</th>\n",
       "      <td>December 29, 2013</td>\n",
       "      <td>41</td>\n",
       "      <td>48</td>\n",
       "      <td>45</td>\n",
       "      <td>clear</td>\n",
       "      <td>0</td>\n",
       "      <td>0</td>\n",
       "      <td>1</td>\n",
       "    </tr>\n",
       "    <tr>\n",
       "      <th>3</th>\n",
       "      <td>December 30, 2013</td>\n",
       "      <td>23</td>\n",
       "      <td>45</td>\n",
       "      <td>34</td>\n",
       "      <td>clear</td>\n",
       "      <td>0</td>\n",
       "      <td>0</td>\n",
       "      <td>0</td>\n",
       "    </tr>\n",
       "    <tr>\n",
       "      <th>4</th>\n",
       "      <td>December 31, 2013</td>\n",
       "      <td>21</td>\n",
       "      <td>32</td>\n",
       "      <td>27</td>\n",
       "      <td>clear</td>\n",
       "      <td>0</td>\n",
       "      <td>0</td>\n",
       "      <td>0</td>\n",
       "    </tr>\n",
       "  </tbody>\n",
       "</table>\n",
       "</div>"
      ],
      "text/plain": [
       "               index min_temp max_temp avg_temp   icon snow fog rain\n",
       "0  December 27, 2013       31       40       36  clear    0   0    0\n",
       "1  December 28, 2013       36       55       46  clear    0   0    0\n",
       "2  December 29, 2013       41       48       45  clear    0   0    1\n",
       "3  December 30, 2013       23       45       34  clear    0   0    0\n",
       "4  December 31, 2013       21       32       27  clear    0   0    0"
      ]
     },
     "execution_count": 18,
     "metadata": {},
     "output_type": "execute_result"
    }
   ],
   "source": [
    "weather4 = pd.DataFrame(weather).T.rename(columns={0:'min_temp', 1:'max_temp', 2:'avg_temp', 3:'icon', 4:'snow', 5:'fog', 6:'rain'})\n",
    "weather4 = weather4.reset_index()\n",
    "weather4.head()"
   ]
  },
  {
   "cell_type": "code",
   "execution_count": 25,
   "metadata": {
    "collapsed": false
   },
   "outputs": [],
   "source": [
    "weather_all = pd.concat([weather0, weather1, weather2, weather3, weather4])"
   ]
  },
  {
   "cell_type": "code",
   "execution_count": 27,
   "metadata": {
    "collapsed": false
   },
   "outputs": [
    {
     "data": {
      "text/html": [
       "<div>\n",
       "<table border=\"1\" class=\"dataframe\">\n",
       "  <thead>\n",
       "    <tr style=\"text-align: right;\">\n",
       "      <th></th>\n",
       "      <th>index</th>\n",
       "      <th>min_temp</th>\n",
       "      <th>max_temp</th>\n",
       "      <th>avg_temp</th>\n",
       "      <th>icon</th>\n",
       "      <th>snow</th>\n",
       "      <th>fog</th>\n",
       "      <th>rain</th>\n",
       "    </tr>\n",
       "  </thead>\n",
       "  <tbody>\n",
       "    <tr>\n",
       "      <th>0</th>\n",
       "      <td>February 1, 2013</td>\n",
       "      <td>24</td>\n",
       "      <td>31</td>\n",
       "      <td>28</td>\n",
       "      <td>clear</td>\n",
       "      <td>0</td>\n",
       "      <td>0</td>\n",
       "      <td>0</td>\n",
       "    </tr>\n",
       "    <tr>\n",
       "      <th>1</th>\n",
       "      <td>February 10, 2013</td>\n",
       "      <td>18</td>\n",
       "      <td>36</td>\n",
       "      <td>27</td>\n",
       "      <td>clear</td>\n",
       "      <td>0</td>\n",
       "      <td>0</td>\n",
       "      <td>0</td>\n",
       "    </tr>\n",
       "    <tr>\n",
       "      <th>2</th>\n",
       "      <td>February 11, 2013</td>\n",
       "      <td>34</td>\n",
       "      <td>45</td>\n",
       "      <td>40</td>\n",
       "      <td>clear</td>\n",
       "      <td>0</td>\n",
       "      <td>1</td>\n",
       "      <td>1</td>\n",
       "    </tr>\n",
       "    <tr>\n",
       "      <th>3</th>\n",
       "      <td>February 12, 2013</td>\n",
       "      <td>36</td>\n",
       "      <td>44</td>\n",
       "      <td>40</td>\n",
       "      <td>partlycloudy</td>\n",
       "      <td>0</td>\n",
       "      <td>0</td>\n",
       "      <td>0</td>\n",
       "    </tr>\n",
       "    <tr>\n",
       "      <th>4</th>\n",
       "      <td>February 13, 2013</td>\n",
       "      <td>33</td>\n",
       "      <td>44</td>\n",
       "      <td>39</td>\n",
       "      <td>clear</td>\n",
       "      <td>1</td>\n",
       "      <td>0</td>\n",
       "      <td>0</td>\n",
       "    </tr>\n",
       "    <tr>\n",
       "      <th>5</th>\n",
       "      <td>February 14, 2013</td>\n",
       "      <td>33</td>\n",
       "      <td>46</td>\n",
       "      <td>40</td>\n",
       "      <td>snow</td>\n",
       "      <td>1</td>\n",
       "      <td>0</td>\n",
       "      <td>0</td>\n",
       "    </tr>\n",
       "    <tr>\n",
       "      <th>6</th>\n",
       "      <td>February 15, 2013</td>\n",
       "      <td>37</td>\n",
       "      <td>55</td>\n",
       "      <td>46</td>\n",
       "      <td>clear</td>\n",
       "      <td>0</td>\n",
       "      <td>0</td>\n",
       "      <td>0</td>\n",
       "    </tr>\n",
       "    <tr>\n",
       "      <th>7</th>\n",
       "      <td>February 16, 2013</td>\n",
       "      <td>31</td>\n",
       "      <td>41</td>\n",
       "      <td>36</td>\n",
       "      <td>cloudy</td>\n",
       "      <td>1</td>\n",
       "      <td>0</td>\n",
       "      <td>0</td>\n",
       "    </tr>\n",
       "    <tr>\n",
       "      <th>8</th>\n",
       "      <td>February 17, 2013</td>\n",
       "      <td>18</td>\n",
       "      <td>32</td>\n",
       "      <td>25</td>\n",
       "      <td>cloudy</td>\n",
       "      <td>0</td>\n",
       "      <td>0</td>\n",
       "      <td>0</td>\n",
       "    </tr>\n",
       "    <tr>\n",
       "      <th>9</th>\n",
       "      <td>February 18, 2013</td>\n",
       "      <td>17</td>\n",
       "      <td>35</td>\n",
       "      <td>26</td>\n",
       "      <td>clear</td>\n",
       "      <td>0</td>\n",
       "      <td>0</td>\n",
       "      <td>0</td>\n",
       "    </tr>\n",
       "  </tbody>\n",
       "</table>\n",
       "</div>"
      ],
      "text/plain": [
       "               index min_temp max_temp avg_temp          icon snow fog rain\n",
       "0   February 1, 2013       24       31       28         clear    0   0    0\n",
       "1  February 10, 2013       18       36       27         clear    0   0    0\n",
       "2  February 11, 2013       34       45       40         clear    0   1    1\n",
       "3  February 12, 2013       36       44       40  partlycloudy    0   0    0\n",
       "4  February 13, 2013       33       44       39         clear    1   0    0\n",
       "5  February 14, 2013       33       46       40          snow    1   0    0\n",
       "6  February 15, 2013       37       55       46         clear    0   0    0\n",
       "7  February 16, 2013       31       41       36        cloudy    1   0    0\n",
       "8  February 17, 2013       18       32       25        cloudy    0   0    0\n",
       "9  February 18, 2013       17       35       26         clear    0   0    0"
      ]
     },
     "execution_count": 27,
     "metadata": {},
     "output_type": "execute_result"
    }
   ],
   "source": [
    "weather_all.head(10)"
   ]
  },
  {
   "cell_type": "code",
   "execution_count": 29,
   "metadata": {
    "collapsed": false
   },
   "outputs": [],
   "source": [
    "weather_all = weather_all.rename(columns={'index':'date'})"
   ]
  },
  {
   "cell_type": "code",
   "execution_count": 30,
   "metadata": {
    "collapsed": false
   },
   "outputs": [
    {
     "data": {
      "text/html": [
       "<div>\n",
       "<table border=\"1\" class=\"dataframe\">\n",
       "  <thead>\n",
       "    <tr style=\"text-align: right;\">\n",
       "      <th></th>\n",
       "      <th>date</th>\n",
       "      <th>min_temp</th>\n",
       "      <th>max_temp</th>\n",
       "      <th>avg_temp</th>\n",
       "      <th>icon</th>\n",
       "      <th>snow</th>\n",
       "      <th>fog</th>\n",
       "      <th>rain</th>\n",
       "    </tr>\n",
       "  </thead>\n",
       "  <tbody>\n",
       "    <tr>\n",
       "      <th>0</th>\n",
       "      <td>February 1, 2013</td>\n",
       "      <td>24</td>\n",
       "      <td>31</td>\n",
       "      <td>28</td>\n",
       "      <td>clear</td>\n",
       "      <td>0</td>\n",
       "      <td>0</td>\n",
       "      <td>0</td>\n",
       "    </tr>\n",
       "    <tr>\n",
       "      <th>1</th>\n",
       "      <td>February 10, 2013</td>\n",
       "      <td>18</td>\n",
       "      <td>36</td>\n",
       "      <td>27</td>\n",
       "      <td>clear</td>\n",
       "      <td>0</td>\n",
       "      <td>0</td>\n",
       "      <td>0</td>\n",
       "    </tr>\n",
       "    <tr>\n",
       "      <th>2</th>\n",
       "      <td>February 11, 2013</td>\n",
       "      <td>34</td>\n",
       "      <td>45</td>\n",
       "      <td>40</td>\n",
       "      <td>clear</td>\n",
       "      <td>0</td>\n",
       "      <td>1</td>\n",
       "      <td>1</td>\n",
       "    </tr>\n",
       "    <tr>\n",
       "      <th>3</th>\n",
       "      <td>February 12, 2013</td>\n",
       "      <td>36</td>\n",
       "      <td>44</td>\n",
       "      <td>40</td>\n",
       "      <td>partlycloudy</td>\n",
       "      <td>0</td>\n",
       "      <td>0</td>\n",
       "      <td>0</td>\n",
       "    </tr>\n",
       "    <tr>\n",
       "      <th>4</th>\n",
       "      <td>February 13, 2013</td>\n",
       "      <td>33</td>\n",
       "      <td>44</td>\n",
       "      <td>39</td>\n",
       "      <td>clear</td>\n",
       "      <td>1</td>\n",
       "      <td>0</td>\n",
       "      <td>0</td>\n",
       "    </tr>\n",
       "  </tbody>\n",
       "</table>\n",
       "</div>"
      ],
      "text/plain": [
       "                date min_temp max_temp avg_temp          icon snow fog rain\n",
       "0   February 1, 2013       24       31       28         clear    0   0    0\n",
       "1  February 10, 2013       18       36       27         clear    0   0    0\n",
       "2  February 11, 2013       34       45       40         clear    0   1    1\n",
       "3  February 12, 2013       36       44       40  partlycloudy    0   0    0\n",
       "4  February 13, 2013       33       44       39         clear    1   0    0"
      ]
     },
     "execution_count": 30,
     "metadata": {},
     "output_type": "execute_result"
    }
   ],
   "source": [
    "weather_all.head()"
   ]
  },
  {
   "cell_type": "code",
   "execution_count": 34,
   "metadata": {
    "collapsed": false
   },
   "outputs": [],
   "source": [
    "weather_all['date'] = pd.to_datetime(weather_all['date'])"
   ]
  },
  {
   "cell_type": "code",
   "execution_count": 36,
   "metadata": {
    "collapsed": false
   },
   "outputs": [],
   "source": [
    "weather_all = weather_all.sort_values(by='date')"
   ]
  },
  {
   "cell_type": "code",
   "execution_count": 38,
   "metadata": {
    "collapsed": true
   },
   "outputs": [],
   "source": [
    "weather_all = weather_all.reset_index()\n",
    "weather_all = weather_all.drop('index',axis=1)"
   ]
  },
  {
   "cell_type": "code",
   "execution_count": 39,
   "metadata": {
    "collapsed": false
   },
   "outputs": [
    {
     "data": {
      "text/html": [
       "<div>\n",
       "<table border=\"1\" class=\"dataframe\">\n",
       "  <thead>\n",
       "    <tr style=\"text-align: right;\">\n",
       "      <th></th>\n",
       "      <th>date</th>\n",
       "      <th>min_temp</th>\n",
       "      <th>max_temp</th>\n",
       "      <th>avg_temp</th>\n",
       "      <th>icon</th>\n",
       "      <th>snow</th>\n",
       "      <th>fog</th>\n",
       "      <th>rain</th>\n",
       "    </tr>\n",
       "  </thead>\n",
       "  <tbody>\n",
       "    <tr>\n",
       "      <th>0</th>\n",
       "      <td>2013-01-01</td>\n",
       "      <td>26</td>\n",
       "      <td>40</td>\n",
       "      <td>33</td>\n",
       "      <td>cloudy</td>\n",
       "      <td>0</td>\n",
       "      <td>0</td>\n",
       "      <td>0</td>\n",
       "    </tr>\n",
       "    <tr>\n",
       "      <th>1</th>\n",
       "      <td>2013-01-02</td>\n",
       "      <td>22</td>\n",
       "      <td>33</td>\n",
       "      <td>28</td>\n",
       "      <td>clear</td>\n",
       "      <td>0</td>\n",
       "      <td>0</td>\n",
       "      <td>0</td>\n",
       "    </tr>\n",
       "    <tr>\n",
       "      <th>2</th>\n",
       "      <td>2013-01-03</td>\n",
       "      <td>24</td>\n",
       "      <td>32</td>\n",
       "      <td>28</td>\n",
       "      <td>clear</td>\n",
       "      <td>0</td>\n",
       "      <td>0</td>\n",
       "      <td>0</td>\n",
       "    </tr>\n",
       "    <tr>\n",
       "      <th>3</th>\n",
       "      <td>2013-01-04</td>\n",
       "      <td>30</td>\n",
       "      <td>37</td>\n",
       "      <td>34</td>\n",
       "      <td>mostlycloudy</td>\n",
       "      <td>0</td>\n",
       "      <td>0</td>\n",
       "      <td>0</td>\n",
       "    </tr>\n",
       "    <tr>\n",
       "      <th>4</th>\n",
       "      <td>2013-01-05</td>\n",
       "      <td>32</td>\n",
       "      <td>42</td>\n",
       "      <td>37</td>\n",
       "      <td>clear</td>\n",
       "      <td>0</td>\n",
       "      <td>0</td>\n",
       "      <td>0</td>\n",
       "    </tr>\n",
       "  </tbody>\n",
       "</table>\n",
       "</div>"
      ],
      "text/plain": [
       "        date min_temp max_temp avg_temp          icon snow fog rain\n",
       "0 2013-01-01       26       40       33        cloudy    0   0    0\n",
       "1 2013-01-02       22       33       28         clear    0   0    0\n",
       "2 2013-01-03       24       32       28         clear    0   0    0\n",
       "3 2013-01-04       30       37       34  mostlycloudy    0   0    0\n",
       "4 2013-01-05       32       42       37         clear    0   0    0"
      ]
     },
     "execution_count": 39,
     "metadata": {},
     "output_type": "execute_result"
    }
   ],
   "source": [
    "weather_all.head()"
   ]
  },
  {
   "cell_type": "code",
   "execution_count": 40,
   "metadata": {
    "collapsed": false
   },
   "outputs": [
    {
     "data": {
      "text/html": [
       "<div>\n",
       "<table border=\"1\" class=\"dataframe\">\n",
       "  <thead>\n",
       "    <tr style=\"text-align: right;\">\n",
       "      <th></th>\n",
       "      <th>date</th>\n",
       "      <th>min_temp</th>\n",
       "      <th>max_temp</th>\n",
       "      <th>avg_temp</th>\n",
       "      <th>icon</th>\n",
       "      <th>snow</th>\n",
       "      <th>fog</th>\n",
       "      <th>rain</th>\n",
       "    </tr>\n",
       "  </thead>\n",
       "  <tbody>\n",
       "    <tr>\n",
       "      <th>361</th>\n",
       "      <td>2013-12-28</td>\n",
       "      <td>36</td>\n",
       "      <td>55</td>\n",
       "      <td>46</td>\n",
       "      <td>clear</td>\n",
       "      <td>0</td>\n",
       "      <td>0</td>\n",
       "      <td>0</td>\n",
       "    </tr>\n",
       "    <tr>\n",
       "      <th>362</th>\n",
       "      <td>2013-12-29</td>\n",
       "      <td>41</td>\n",
       "      <td>48</td>\n",
       "      <td>45</td>\n",
       "      <td>clear</td>\n",
       "      <td>0</td>\n",
       "      <td>0</td>\n",
       "      <td>1</td>\n",
       "    </tr>\n",
       "    <tr>\n",
       "      <th>363</th>\n",
       "      <td>2013-12-30</td>\n",
       "      <td>23</td>\n",
       "      <td>45</td>\n",
       "      <td>34</td>\n",
       "      <td>clear</td>\n",
       "      <td>0</td>\n",
       "      <td>0</td>\n",
       "      <td>0</td>\n",
       "    </tr>\n",
       "    <tr>\n",
       "      <th>364</th>\n",
       "      <td>2013-12-31</td>\n",
       "      <td>21</td>\n",
       "      <td>32</td>\n",
       "      <td>27</td>\n",
       "      <td>clear</td>\n",
       "      <td>0</td>\n",
       "      <td>0</td>\n",
       "      <td>0</td>\n",
       "    </tr>\n",
       "    <tr>\n",
       "      <th>365</th>\n",
       "      <td>2014-01-01</td>\n",
       "      <td>24</td>\n",
       "      <td>33</td>\n",
       "      <td>29</td>\n",
       "      <td>clear</td>\n",
       "      <td>0</td>\n",
       "      <td>0</td>\n",
       "      <td>0</td>\n",
       "    </tr>\n",
       "  </tbody>\n",
       "</table>\n",
       "</div>"
      ],
      "text/plain": [
       "          date min_temp max_temp avg_temp   icon snow fog rain\n",
       "361 2013-12-28       36       55       46  clear    0   0    0\n",
       "362 2013-12-29       41       48       45  clear    0   0    1\n",
       "363 2013-12-30       23       45       34  clear    0   0    0\n",
       "364 2013-12-31       21       32       27  clear    0   0    0\n",
       "365 2014-01-01       24       33       29  clear    0   0    0"
      ]
     },
     "execution_count": 40,
     "metadata": {},
     "output_type": "execute_result"
    }
   ],
   "source": [
    "weather_all.tail()"
   ]
  },
  {
   "cell_type": "code",
   "execution_count": 43,
   "metadata": {
    "collapsed": true
   },
   "outputs": [],
   "source": [
    "weather_all = weather_all.iloc[:365,:]"
   ]
  },
  {
   "cell_type": "code",
   "execution_count": 44,
   "metadata": {
    "collapsed": false
   },
   "outputs": [
    {
     "data": {
      "text/html": [
       "<div>\n",
       "<table border=\"1\" class=\"dataframe\">\n",
       "  <thead>\n",
       "    <tr style=\"text-align: right;\">\n",
       "      <th></th>\n",
       "      <th>date</th>\n",
       "      <th>min_temp</th>\n",
       "      <th>max_temp</th>\n",
       "      <th>avg_temp</th>\n",
       "      <th>icon</th>\n",
       "      <th>snow</th>\n",
       "      <th>fog</th>\n",
       "      <th>rain</th>\n",
       "    </tr>\n",
       "  </thead>\n",
       "  <tbody>\n",
       "    <tr>\n",
       "      <th>360</th>\n",
       "      <td>2013-12-27</td>\n",
       "      <td>31</td>\n",
       "      <td>40</td>\n",
       "      <td>36</td>\n",
       "      <td>clear</td>\n",
       "      <td>0</td>\n",
       "      <td>0</td>\n",
       "      <td>0</td>\n",
       "    </tr>\n",
       "    <tr>\n",
       "      <th>361</th>\n",
       "      <td>2013-12-28</td>\n",
       "      <td>36</td>\n",
       "      <td>55</td>\n",
       "      <td>46</td>\n",
       "      <td>clear</td>\n",
       "      <td>0</td>\n",
       "      <td>0</td>\n",
       "      <td>0</td>\n",
       "    </tr>\n",
       "    <tr>\n",
       "      <th>362</th>\n",
       "      <td>2013-12-29</td>\n",
       "      <td>41</td>\n",
       "      <td>48</td>\n",
       "      <td>45</td>\n",
       "      <td>clear</td>\n",
       "      <td>0</td>\n",
       "      <td>0</td>\n",
       "      <td>1</td>\n",
       "    </tr>\n",
       "    <tr>\n",
       "      <th>363</th>\n",
       "      <td>2013-12-30</td>\n",
       "      <td>23</td>\n",
       "      <td>45</td>\n",
       "      <td>34</td>\n",
       "      <td>clear</td>\n",
       "      <td>0</td>\n",
       "      <td>0</td>\n",
       "      <td>0</td>\n",
       "    </tr>\n",
       "    <tr>\n",
       "      <th>364</th>\n",
       "      <td>2013-12-31</td>\n",
       "      <td>21</td>\n",
       "      <td>32</td>\n",
       "      <td>27</td>\n",
       "      <td>clear</td>\n",
       "      <td>0</td>\n",
       "      <td>0</td>\n",
       "      <td>0</td>\n",
       "    </tr>\n",
       "  </tbody>\n",
       "</table>\n",
       "</div>"
      ],
      "text/plain": [
       "          date min_temp max_temp avg_temp   icon snow fog rain\n",
       "360 2013-12-27       31       40       36  clear    0   0    0\n",
       "361 2013-12-28       36       55       46  clear    0   0    0\n",
       "362 2013-12-29       41       48       45  clear    0   0    1\n",
       "363 2013-12-30       23       45       34  clear    0   0    0\n",
       "364 2013-12-31       21       32       27  clear    0   0    0"
      ]
     },
     "execution_count": 44,
     "metadata": {},
     "output_type": "execute_result"
    }
   ],
   "source": [
    "weather_all.tail()"
   ]
  },
  {
   "cell_type": "code",
   "execution_count": 45,
   "metadata": {
    "collapsed": true
   },
   "outputs": [],
   "source": [
    "weather_all.to_csv('weather_2013.csv')"
   ]
  },
  {
   "cell_type": "code",
   "execution_count": 46,
   "metadata": {
    "collapsed": false
   },
   "outputs": [
    {
     "data": {
      "text/html": [
       "<div>\n",
       "<table border=\"1\" class=\"dataframe\">\n",
       "  <thead>\n",
       "    <tr style=\"text-align: right;\">\n",
       "      <th></th>\n",
       "      <th>Unnamed: 0</th>\n",
       "      <th>date</th>\n",
       "      <th>min_temp</th>\n",
       "      <th>max_temp</th>\n",
       "      <th>avg_temp</th>\n",
       "      <th>icon</th>\n",
       "      <th>snow</th>\n",
       "      <th>fog</th>\n",
       "      <th>rain</th>\n",
       "    </tr>\n",
       "  </thead>\n",
       "  <tbody>\n",
       "    <tr>\n",
       "      <th>0</th>\n",
       "      <td>0</td>\n",
       "      <td>2013-01-01</td>\n",
       "      <td>26</td>\n",
       "      <td>40</td>\n",
       "      <td>33</td>\n",
       "      <td>cloudy</td>\n",
       "      <td>0</td>\n",
       "      <td>0</td>\n",
       "      <td>0</td>\n",
       "    </tr>\n",
       "    <tr>\n",
       "      <th>1</th>\n",
       "      <td>1</td>\n",
       "      <td>2013-01-02</td>\n",
       "      <td>22</td>\n",
       "      <td>33</td>\n",
       "      <td>28</td>\n",
       "      <td>clear</td>\n",
       "      <td>0</td>\n",
       "      <td>0</td>\n",
       "      <td>0</td>\n",
       "    </tr>\n",
       "    <tr>\n",
       "      <th>2</th>\n",
       "      <td>2</td>\n",
       "      <td>2013-01-03</td>\n",
       "      <td>24</td>\n",
       "      <td>32</td>\n",
       "      <td>28</td>\n",
       "      <td>clear</td>\n",
       "      <td>0</td>\n",
       "      <td>0</td>\n",
       "      <td>0</td>\n",
       "    </tr>\n",
       "    <tr>\n",
       "      <th>3</th>\n",
       "      <td>3</td>\n",
       "      <td>2013-01-04</td>\n",
       "      <td>30</td>\n",
       "      <td>37</td>\n",
       "      <td>34</td>\n",
       "      <td>mostlycloudy</td>\n",
       "      <td>0</td>\n",
       "      <td>0</td>\n",
       "      <td>0</td>\n",
       "    </tr>\n",
       "    <tr>\n",
       "      <th>4</th>\n",
       "      <td>4</td>\n",
       "      <td>2013-01-05</td>\n",
       "      <td>32</td>\n",
       "      <td>42</td>\n",
       "      <td>37</td>\n",
       "      <td>clear</td>\n",
       "      <td>0</td>\n",
       "      <td>0</td>\n",
       "      <td>0</td>\n",
       "    </tr>\n",
       "  </tbody>\n",
       "</table>\n",
       "</div>"
      ],
      "text/plain": [
       "   Unnamed: 0        date  min_temp  max_temp  avg_temp          icon  snow  \\\n",
       "0           0  2013-01-01        26        40        33        cloudy     0   \n",
       "1           1  2013-01-02        22        33        28         clear     0   \n",
       "2           2  2013-01-03        24        32        28         clear     0   \n",
       "3           3  2013-01-04        30        37        34  mostlycloudy     0   \n",
       "4           4  2013-01-05        32        42        37         clear     0   \n",
       "\n",
       "   fog  rain  \n",
       "0    0     0  \n",
       "1    0     0  \n",
       "2    0     0  \n",
       "3    0     0  \n",
       "4    0     0  "
      ]
     },
     "execution_count": 46,
     "metadata": {},
     "output_type": "execute_result"
    }
   ],
   "source": [
    "test = pd.read_csv('weather_2013.csv')\n",
    "test.head()"
   ]
  },
  {
   "cell_type": "code",
   "execution_count": null,
   "metadata": {
    "collapsed": true
   },
   "outputs": [],
   "source": []
  }
 ],
 "metadata": {
  "kernelspec": {
   "display_name": "Python 2",
   "language": "python",
   "name": "python2"
  },
  "language_info": {
   "codemirror_mode": {
    "name": "ipython",
    "version": 2
   },
   "file_extension": ".py",
   "mimetype": "text/x-python",
   "name": "python",
   "nbconvert_exporter": "python",
   "pygments_lexer": "ipython2",
   "version": "2.7.12"
  }
 },
 "nbformat": 4,
 "nbformat_minor": 1
}
