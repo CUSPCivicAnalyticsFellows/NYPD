{
 "cells": [
  {
   "cell_type": "code",
   "execution_count": 1,
   "metadata": {
    "collapsed": true
   },
   "outputs": [],
   "source": [
    "import pandas as pd\n",
    "import geopandas as gpd\n",
    "from shapely.geometry import Point"
   ]
  },
  {
   "cell_type": "markdown",
   "metadata": {},
   "source": [
    "### import graffiti complaints 2013-2016"
   ]
  },
  {
   "cell_type": "code",
   "execution_count": 2,
   "metadata": {
    "collapsed": false
   },
   "outputs": [
    {
     "name": "stderr",
     "output_type": "stream",
     "text": [
      "//anaconda/lib/python2.7/site-packages/IPython/core/interactiveshell.py:2723: DtypeWarning: Columns (17) have mixed types. Specify dtype option on import or set low_memory=False.\n",
      "  interactivity=interactivity, compiler=compiler, result=result)\n"
     ]
    },
    {
     "data": {
      "text/html": [
       "<div>\n",
       "<table border=\"1\" class=\"dataframe\">\n",
       "  <thead>\n",
       "    <tr style=\"text-align: right;\">\n",
       "      <th></th>\n",
       "      <th>Unique Key</th>\n",
       "      <th>Created Date</th>\n",
       "      <th>Closed Date</th>\n",
       "      <th>Agency</th>\n",
       "      <th>Agency Name</th>\n",
       "      <th>Complaint Type</th>\n",
       "      <th>Descriptor</th>\n",
       "      <th>Location Type</th>\n",
       "      <th>Incident Zip</th>\n",
       "      <th>Incident Address</th>\n",
       "      <th>...</th>\n",
       "      <th>Bridge Highway Name</th>\n",
       "      <th>Bridge Highway Direction</th>\n",
       "      <th>Road Ramp</th>\n",
       "      <th>Bridge Highway Segment</th>\n",
       "      <th>Garage Lot Name</th>\n",
       "      <th>Ferry Direction</th>\n",
       "      <th>Ferry Terminal Name</th>\n",
       "      <th>Latitude</th>\n",
       "      <th>Longitude</th>\n",
       "      <th>Location</th>\n",
       "    </tr>\n",
       "  </thead>\n",
       "  <tbody>\n",
       "    <tr>\n",
       "      <th>0</th>\n",
       "      <td>24703192</td>\n",
       "      <td>01/02/2013 12:42:41 PM</td>\n",
       "      <td>01/23/2013 02:31:06 PM</td>\n",
       "      <td>DPR</td>\n",
       "      <td>Department of Parks and Recreation</td>\n",
       "      <td>Maintenance or Facility</td>\n",
       "      <td>Graffiti or Vandalism</td>\n",
       "      <td>NaN</td>\n",
       "      <td>NaN</td>\n",
       "      <td>NaN</td>\n",
       "      <td>...</td>\n",
       "      <td>NaN</td>\n",
       "      <td>NaN</td>\n",
       "      <td>NaN</td>\n",
       "      <td>NaN</td>\n",
       "      <td>NaN</td>\n",
       "      <td>NaN</td>\n",
       "      <td>NaN</td>\n",
       "      <td>NaN</td>\n",
       "      <td>NaN</td>\n",
       "      <td>NaN</td>\n",
       "    </tr>\n",
       "    <tr>\n",
       "      <th>1</th>\n",
       "      <td>24708485</td>\n",
       "      <td>01/02/2013 01:51:20 PM</td>\n",
       "      <td>NaN</td>\n",
       "      <td>DSNY</td>\n",
       "      <td>Department of Sanitation</td>\n",
       "      <td>Graffiti</td>\n",
       "      <td>Graffiti</td>\n",
       "      <td>NaN</td>\n",
       "      <td>11213.0</td>\n",
       "      <td>304 UTICA AVENUE</td>\n",
       "      <td>...</td>\n",
       "      <td>NaN</td>\n",
       "      <td>NaN</td>\n",
       "      <td>NaN</td>\n",
       "      <td>NaN</td>\n",
       "      <td>NaN</td>\n",
       "      <td>NaN</td>\n",
       "      <td>NaN</td>\n",
       "      <td>40.667577</td>\n",
       "      <td>-73.931248</td>\n",
       "      <td>(40.66757653265371, -73.93124757101009)</td>\n",
       "    </tr>\n",
       "  </tbody>\n",
       "</table>\n",
       "<p>2 rows × 53 columns</p>\n",
       "</div>"
      ],
      "text/plain": [
       "   Unique Key            Created Date             Closed Date Agency  \\\n",
       "0    24703192  01/02/2013 12:42:41 PM  01/23/2013 02:31:06 PM    DPR   \n",
       "1    24708485  01/02/2013 01:51:20 PM                     NaN   DSNY   \n",
       "\n",
       "                          Agency Name           Complaint Type  \\\n",
       "0  Department of Parks and Recreation  Maintenance or Facility   \n",
       "1            Department of Sanitation                 Graffiti   \n",
       "\n",
       "              Descriptor Location Type  Incident Zip  Incident Address  \\\n",
       "0  Graffiti or Vandalism           NaN           NaN               NaN   \n",
       "1               Graffiti           NaN       11213.0  304 UTICA AVENUE   \n",
       "\n",
       "                    ...                    Bridge Highway Name  \\\n",
       "0                   ...                                    NaN   \n",
       "1                   ...                                    NaN   \n",
       "\n",
       "  Bridge Highway Direction Road Ramp Bridge Highway Segment Garage Lot Name  \\\n",
       "0                      NaN       NaN                    NaN             NaN   \n",
       "1                      NaN       NaN                    NaN             NaN   \n",
       "\n",
       "  Ferry Direction Ferry Terminal Name   Latitude  Longitude  \\\n",
       "0             NaN                 NaN        NaN        NaN   \n",
       "1             NaN                 NaN  40.667577 -73.931248   \n",
       "\n",
       "                                  Location  \n",
       "0                                      NaN  \n",
       "1  (40.66757653265371, -73.93124757101009)  \n",
       "\n",
       "[2 rows x 53 columns]"
      ]
     },
     "execution_count": 2,
     "metadata": {},
     "output_type": "execute_result"
    }
   ],
   "source": [
    "g = pd.read_csv('311_graffiti_2013_2016.csv')\n",
    "g.head(2)"
   ]
  },
  {
   "cell_type": "code",
   "execution_count": 3,
   "metadata": {
    "collapsed": false
   },
   "outputs": [
    {
     "data": {
      "text/plain": [
       "60934"
      ]
     },
     "execution_count": 3,
     "metadata": {},
     "output_type": "execute_result"
    }
   ],
   "source": [
    "len(g)"
   ]
  },
  {
   "cell_type": "code",
   "execution_count": 4,
   "metadata": {
    "collapsed": false
   },
   "outputs": [],
   "source": [
    "g = g.dropna(subset=['X Coordinate (State Plane)', 'Y Coordinate (State Plane)'])"
   ]
  },
  {
   "cell_type": "code",
   "execution_count": 5,
   "metadata": {
    "collapsed": true
   },
   "outputs": [],
   "source": [
    "g = g[['Unique Key', 'Created Date', 'X Coordinate (State Plane)', 'Y Coordinate (State Plane)']]"
   ]
  },
  {
   "cell_type": "code",
   "execution_count": 6,
   "metadata": {
    "collapsed": false
   },
   "outputs": [
    {
     "data": {
      "text/plain": [
       "Unique Key                    0\n",
       "Created Date                  0\n",
       "X Coordinate (State Plane)    0\n",
       "Y Coordinate (State Plane)    0\n",
       "dtype: int64"
      ]
     },
     "execution_count": 6,
     "metadata": {},
     "output_type": "execute_result"
    }
   ],
   "source": [
    "g.isnull().sum()"
   ]
  },
  {
   "cell_type": "code",
   "execution_count": 7,
   "metadata": {
    "collapsed": false
   },
   "outputs": [
    {
     "data": {
      "text/html": [
       "<div>\n",
       "<table border=\"1\" class=\"dataframe\">\n",
       "  <thead>\n",
       "    <tr style=\"text-align: right;\">\n",
       "      <th></th>\n",
       "      <th>Unique Key</th>\n",
       "      <th>Created Date</th>\n",
       "      <th>X Coordinate (State Plane)</th>\n",
       "      <th>Y Coordinate (State Plane)</th>\n",
       "      <th>created_year</th>\n",
       "    </tr>\n",
       "  </thead>\n",
       "  <tbody>\n",
       "    <tr>\n",
       "      <th>1</th>\n",
       "      <td>24708485</td>\n",
       "      <td>2013-01-02 13:51:20</td>\n",
       "      <td>1003323.0</td>\n",
       "      <td>182500.0</td>\n",
       "      <td>2013</td>\n",
       "    </tr>\n",
       "    <tr>\n",
       "      <th>2</th>\n",
       "      <td>24708486</td>\n",
       "      <td>2013-01-02 13:50:55</td>\n",
       "      <td>1022237.0</td>\n",
       "      <td>261331.0</td>\n",
       "      <td>2013</td>\n",
       "    </tr>\n",
       "  </tbody>\n",
       "</table>\n",
       "</div>"
      ],
      "text/plain": [
       "   Unique Key        Created Date  X Coordinate (State Plane)  \\\n",
       "1    24708485 2013-01-02 13:51:20                   1003323.0   \n",
       "2    24708486 2013-01-02 13:50:55                   1022237.0   \n",
       "\n",
       "   Y Coordinate (State Plane)  created_year  \n",
       "1                    182500.0          2013  \n",
       "2                    261331.0          2013  "
      ]
     },
     "execution_count": 7,
     "metadata": {},
     "output_type": "execute_result"
    }
   ],
   "source": [
    "g['Created Date'] = pd.to_datetime(g['Created Date'])\n",
    "g['created_year'] = g['Created Date'].dt.year\n",
    "g.head(2)"
   ]
  },
  {
   "cell_type": "code",
   "execution_count": 8,
   "metadata": {
    "collapsed": false
   },
   "outputs": [
    {
     "data": {
      "text/plain": [
       "array([2013, 2014, 2015, 2016])"
      ]
     },
     "execution_count": 8,
     "metadata": {},
     "output_type": "execute_result"
    }
   ],
   "source": [
    "g['created_year'].unique()"
   ]
  },
  {
   "cell_type": "code",
   "execution_count": 9,
   "metadata": {
    "collapsed": false
   },
   "outputs": [
    {
     "data": {
      "text/plain": [
       "dtype('int64')"
      ]
     },
     "execution_count": 9,
     "metadata": {},
     "output_type": "execute_result"
    }
   ],
   "source": [
    "g['created_year'].dtypes"
   ]
  },
  {
   "cell_type": "code",
   "execution_count": 10,
   "metadata": {
    "collapsed": false
   },
   "outputs": [],
   "source": [
    "g = g[g['created_year']!=2016]"
   ]
  },
  {
   "cell_type": "code",
   "execution_count": 11,
   "metadata": {
    "collapsed": false
   },
   "outputs": [
    {
     "data": {
      "text/html": [
       "<div>\n",
       "<table border=\"1\" class=\"dataframe\">\n",
       "  <thead>\n",
       "    <tr style=\"text-align: right;\">\n",
       "      <th></th>\n",
       "      <th>Unique Key</th>\n",
       "      <th>Created Date</th>\n",
       "      <th>X Coordinate (State Plane)</th>\n",
       "      <th>Y Coordinate (State Plane)</th>\n",
       "      <th>created_year</th>\n",
       "    </tr>\n",
       "  </thead>\n",
       "  <tbody>\n",
       "    <tr>\n",
       "      <th>1</th>\n",
       "      <td>24708485</td>\n",
       "      <td>2013-01-02 13:51:20</td>\n",
       "      <td>1003323.0</td>\n",
       "      <td>182500.0</td>\n",
       "      <td>2013</td>\n",
       "    </tr>\n",
       "    <tr>\n",
       "      <th>2</th>\n",
       "      <td>24708486</td>\n",
       "      <td>2013-01-02 13:50:55</td>\n",
       "      <td>1022237.0</td>\n",
       "      <td>261331.0</td>\n",
       "      <td>2013</td>\n",
       "    </tr>\n",
       "    <tr>\n",
       "      <th>3</th>\n",
       "      <td>24713583</td>\n",
       "      <td>2013-01-03 18:50:27</td>\n",
       "      <td>995145.0</td>\n",
       "      <td>186535.0</td>\n",
       "      <td>2013</td>\n",
       "    </tr>\n",
       "    <tr>\n",
       "      <th>4</th>\n",
       "      <td>24701077</td>\n",
       "      <td>2013-01-02 00:15:04</td>\n",
       "      <td>1038525.0</td>\n",
       "      <td>197029.0</td>\n",
       "      <td>2013</td>\n",
       "    </tr>\n",
       "    <tr>\n",
       "      <th>5</th>\n",
       "      <td>24702407</td>\n",
       "      <td>2013-01-02 13:51:01</td>\n",
       "      <td>1024179.0</td>\n",
       "      <td>264588.0</td>\n",
       "      <td>2013</td>\n",
       "    </tr>\n",
       "  </tbody>\n",
       "</table>\n",
       "</div>"
      ],
      "text/plain": [
       "   Unique Key        Created Date  X Coordinate (State Plane)  \\\n",
       "1    24708485 2013-01-02 13:51:20                   1003323.0   \n",
       "2    24708486 2013-01-02 13:50:55                   1022237.0   \n",
       "3    24713583 2013-01-03 18:50:27                    995145.0   \n",
       "4    24701077 2013-01-02 00:15:04                   1038525.0   \n",
       "5    24702407 2013-01-02 13:51:01                   1024179.0   \n",
       "\n",
       "   Y Coordinate (State Plane)  created_year  \n",
       "1                    182500.0          2013  \n",
       "2                    261331.0          2013  \n",
       "3                    186535.0          2013  \n",
       "4                    197029.0          2013  \n",
       "5                    264588.0          2013  "
      ]
     },
     "execution_count": 11,
     "metadata": {},
     "output_type": "execute_result"
    }
   ],
   "source": [
    "g.head()"
   ]
  },
  {
   "cell_type": "code",
   "execution_count": 12,
   "metadata": {
    "collapsed": false
   },
   "outputs": [
    {
     "data": {
      "text/html": [
       "<div>\n",
       "<table border=\"1\" class=\"dataframe\">\n",
       "  <thead>\n",
       "    <tr style=\"text-align: right;\">\n",
       "      <th></th>\n",
       "      <th>index</th>\n",
       "      <th>Unique Key</th>\n",
       "      <th>Created Date</th>\n",
       "      <th>X Coordinate (State Plane)</th>\n",
       "      <th>Y Coordinate (State Plane)</th>\n",
       "      <th>created_year</th>\n",
       "    </tr>\n",
       "  </thead>\n",
       "  <tbody>\n",
       "    <tr>\n",
       "      <th>0</th>\n",
       "      <td>1</td>\n",
       "      <td>24708485</td>\n",
       "      <td>2013-01-02 13:51:20</td>\n",
       "      <td>1003323.0</td>\n",
       "      <td>182500.0</td>\n",
       "      <td>2013</td>\n",
       "    </tr>\n",
       "    <tr>\n",
       "      <th>1</th>\n",
       "      <td>2</td>\n",
       "      <td>24708486</td>\n",
       "      <td>2013-01-02 13:50:55</td>\n",
       "      <td>1022237.0</td>\n",
       "      <td>261331.0</td>\n",
       "      <td>2013</td>\n",
       "    </tr>\n",
       "  </tbody>\n",
       "</table>\n",
       "</div>"
      ],
      "text/plain": [
       "   index  Unique Key        Created Date  X Coordinate (State Plane)  \\\n",
       "0      1    24708485 2013-01-02 13:51:20                   1003323.0   \n",
       "1      2    24708486 2013-01-02 13:50:55                   1022237.0   \n",
       "\n",
       "   Y Coordinate (State Plane)  created_year  \n",
       "0                    182500.0          2013  \n",
       "1                    261331.0          2013  "
      ]
     },
     "execution_count": 12,
     "metadata": {},
     "output_type": "execute_result"
    }
   ],
   "source": [
    "g.reset_index(inplace=True)\n",
    "g.head(2)"
   ]
  },
  {
   "cell_type": "code",
   "execution_count": 13,
   "metadata": {
    "collapsed": false
   },
   "outputs": [],
   "source": [
    "geometry = [Point(xy) for xy in zip(g['X Coordinate (State Plane)'], g['Y Coordinate (State Plane)'])]\n",
    "#df = df.drop(['Lon', 'Lat'], axis=1)\n",
    "crs = {'init': 'epsg:2263'}\n",
    "g_geo = gpd.GeoDataFrame(g, crs=crs, geometry=geometry)"
   ]
  },
  {
   "cell_type": "code",
   "execution_count": 14,
   "metadata": {
    "collapsed": true
   },
   "outputs": [],
   "source": [
    "g_geo = g_geo.drop('index',axis=1)"
   ]
  },
  {
   "cell_type": "code",
   "execution_count": 15,
   "metadata": {
    "collapsed": false
   },
   "outputs": [
    {
     "data": {
      "text/plain": [
       "geopandas.geodataframe.GeoDataFrame"
      ]
     },
     "execution_count": 15,
     "metadata": {},
     "output_type": "execute_result"
    }
   ],
   "source": [
    "type(g_geo)"
   ]
  },
  {
   "cell_type": "code",
   "execution_count": 16,
   "metadata": {
    "collapsed": false
   },
   "outputs": [],
   "source": [
    "g_geo = g_geo.to_crs({'init':'epsg:4269'})"
   ]
  },
  {
   "cell_type": "markdown",
   "metadata": {},
   "source": [
    "### import census block groups"
   ]
  },
  {
   "cell_type": "code",
   "execution_count": 17,
   "metadata": {
    "collapsed": true
   },
   "outputs": [],
   "source": [
    "cbg = gpd.read_file('cb_2015_36_bg_500k.shp')"
   ]
  },
  {
   "cell_type": "code",
   "execution_count": 18,
   "metadata": {
    "collapsed": false
   },
   "outputs": [
    {
     "data": {
      "text/html": [
       "<div>\n",
       "<table border=\"1\" class=\"dataframe\">\n",
       "  <thead>\n",
       "    <tr style=\"text-align: right;\">\n",
       "      <th></th>\n",
       "      <th>AFFGEOID</th>\n",
       "      <th>ALAND</th>\n",
       "      <th>AWATER</th>\n",
       "      <th>BLKGRPCE</th>\n",
       "      <th>COUNTYFP</th>\n",
       "      <th>GEOID</th>\n",
       "      <th>LSAD</th>\n",
       "      <th>NAME</th>\n",
       "      <th>STATEFP</th>\n",
       "      <th>TRACTCE</th>\n",
       "      <th>geometry</th>\n",
       "    </tr>\n",
       "  </thead>\n",
       "  <tbody>\n",
       "    <tr>\n",
       "      <th>0</th>\n",
       "      <td>1500000US360610211000</td>\n",
       "      <td>0</td>\n",
       "      <td>307945</td>\n",
       "      <td>0</td>\n",
       "      <td>061</td>\n",
       "      <td>360610211000</td>\n",
       "      <td>BG</td>\n",
       "      <td>0</td>\n",
       "      <td>36</td>\n",
       "      <td>021100</td>\n",
       "      <td>POLYGON ((-73.968082 40.8207, -73.967982575439...</td>\n",
       "    </tr>\n",
       "    <tr>\n",
       "      <th>1</th>\n",
       "      <td>1500000US360290131014</td>\n",
       "      <td>557271</td>\n",
       "      <td>351509</td>\n",
       "      <td>4</td>\n",
       "      <td>029</td>\n",
       "      <td>360290131014</td>\n",
       "      <td>BG</td>\n",
       "      <td>4</td>\n",
       "      <td>36</td>\n",
       "      <td>013101</td>\n",
       "      <td>POLYGON ((-78.89711856256349 42.75125713600959...</td>\n",
       "    </tr>\n",
       "  </tbody>\n",
       "</table>\n",
       "</div>"
      ],
      "text/plain": [
       "                AFFGEOID   ALAND  AWATER BLKGRPCE COUNTYFP         GEOID LSAD  \\\n",
       "0  1500000US360610211000       0  307945        0      061  360610211000   BG   \n",
       "1  1500000US360290131014  557271  351509        4      029  360290131014   BG   \n",
       "\n",
       "  NAME STATEFP TRACTCE                                           geometry  \n",
       "0    0      36  021100  POLYGON ((-73.968082 40.8207, -73.967982575439...  \n",
       "1    4      36  013101  POLYGON ((-78.89711856256349 42.75125713600959...  "
      ]
     },
     "execution_count": 18,
     "metadata": {},
     "output_type": "execute_result"
    }
   ],
   "source": [
    "cbg.head(2)"
   ]
  },
  {
   "cell_type": "code",
   "execution_count": 19,
   "metadata": {
    "collapsed": false
   },
   "outputs": [],
   "source": [
    "cbg = cbg[['AFFGEOID', 'GEOID', 'COUNTYFP', 'geometry']]"
   ]
  },
  {
   "cell_type": "code",
   "execution_count": 20,
   "metadata": {
    "collapsed": false
   },
   "outputs": [],
   "source": [
    "cbg['COUNTYFP'] = cbg['COUNTYFP'].astype(str)"
   ]
  },
  {
   "cell_type": "code",
   "execution_count": 21,
   "metadata": {
    "collapsed": true
   },
   "outputs": [],
   "source": [
    "#061 NYC, 081 QN, 085 SI, 047 BK, 005 BX\n",
    "cbg = cbg.loc[cbg['COUNTYFP'].isin(['061', '081', '085', '047', '005'])]"
   ]
  },
  {
   "cell_type": "code",
   "execution_count": 22,
   "metadata": {
    "collapsed": false
   },
   "outputs": [
    {
     "data": {
      "text/plain": [
       "6442"
      ]
     },
     "execution_count": 22,
     "metadata": {},
     "output_type": "execute_result"
    }
   ],
   "source": [
    "len(cbg)"
   ]
  },
  {
   "cell_type": "code",
   "execution_count": 23,
   "metadata": {
    "collapsed": false
   },
   "outputs": [],
   "source": [
    "cbg = cbg.to_crs({'init':'epsg:4269'})"
   ]
  },
  {
   "cell_type": "code",
   "execution_count": 24,
   "metadata": {
    "collapsed": false
   },
   "outputs": [
    {
     "name": "stdout",
     "output_type": "stream",
     "text": [
      "{'init': 'epsg:4269'}\n",
      "{'init': 'epsg:4269'}\n"
     ]
    }
   ],
   "source": [
    "print cbg.crs\n",
    "print g_geo.crs"
   ]
  },
  {
   "cell_type": "code",
   "execution_count": 25,
   "metadata": {
    "collapsed": false
   },
   "outputs": [
    {
     "data": {
      "text/plain": [
       "AFFGEOID    0\n",
       "GEOID       0\n",
       "COUNTYFP    0\n",
       "geometry    0\n",
       "dtype: int64"
      ]
     },
     "execution_count": 25,
     "metadata": {},
     "output_type": "execute_result"
    }
   ],
   "source": [
    "cbg.isnull().sum()"
   ]
  },
  {
   "cell_type": "code",
   "execution_count": 26,
   "metadata": {
    "collapsed": false
   },
   "outputs": [
    {
     "data": {
      "text/html": [
       "<div>\n",
       "<table border=\"1\" class=\"dataframe\">\n",
       "  <thead>\n",
       "    <tr style=\"text-align: right;\">\n",
       "      <th></th>\n",
       "      <th>Unique Key</th>\n",
       "      <th>Created Date</th>\n",
       "      <th>X Coordinate (State Plane)</th>\n",
       "      <th>Y Coordinate (State Plane)</th>\n",
       "      <th>created_year</th>\n",
       "      <th>geometry</th>\n",
       "    </tr>\n",
       "  </thead>\n",
       "  <tbody>\n",
       "    <tr>\n",
       "      <th>0</th>\n",
       "      <td>24708485</td>\n",
       "      <td>2013-01-02 13:51:20</td>\n",
       "      <td>1003323.0</td>\n",
       "      <td>182500.0</td>\n",
       "      <td>2013</td>\n",
       "      <td>POINT (-73.9312475710101 40.6675764931536)</td>\n",
       "    </tr>\n",
       "    <tr>\n",
       "      <th>1</th>\n",
       "      <td>24708486</td>\n",
       "      <td>2013-01-02 13:50:55</td>\n",
       "      <td>1022237.0</td>\n",
       "      <td>261331.0</td>\n",
       "      <td>2013</td>\n",
       "      <td>POINT (-73.86262272666154 40.88388553463825)</td>\n",
       "    </tr>\n",
       "    <tr>\n",
       "      <th>2</th>\n",
       "      <td>24713583</td>\n",
       "      <td>2013-01-03 18:50:27</td>\n",
       "      <td>995145.0</td>\n",
       "      <td>186535.0</td>\n",
       "      <td>2013</td>\n",
       "      <td>POINT (-73.96072027397858 40.67866550190102)</td>\n",
       "    </tr>\n",
       "    <tr>\n",
       "      <th>3</th>\n",
       "      <td>24701077</td>\n",
       "      <td>2013-01-02 00:15:04</td>\n",
       "      <td>1038525.0</td>\n",
       "      <td>197029.0</td>\n",
       "      <td>2013</td>\n",
       "      <td>POINT (-73.80423819099072 40.70730934852464)</td>\n",
       "    </tr>\n",
       "    <tr>\n",
       "      <th>4</th>\n",
       "      <td>24702407</td>\n",
       "      <td>2013-01-02 13:51:01</td>\n",
       "      <td>1024179.0</td>\n",
       "      <td>264588.0</td>\n",
       "      <td>2013</td>\n",
       "      <td>POINT (-73.85558021542973 40.89281638929326)</td>\n",
       "    </tr>\n",
       "  </tbody>\n",
       "</table>\n",
       "</div>"
      ],
      "text/plain": [
       "   Unique Key        Created Date  X Coordinate (State Plane)  \\\n",
       "0    24708485 2013-01-02 13:51:20                   1003323.0   \n",
       "1    24708486 2013-01-02 13:50:55                   1022237.0   \n",
       "2    24713583 2013-01-03 18:50:27                    995145.0   \n",
       "3    24701077 2013-01-02 00:15:04                   1038525.0   \n",
       "4    24702407 2013-01-02 13:51:01                   1024179.0   \n",
       "\n",
       "   Y Coordinate (State Plane)  created_year  \\\n",
       "0                    182500.0          2013   \n",
       "1                    261331.0          2013   \n",
       "2                    186535.0          2013   \n",
       "3                    197029.0          2013   \n",
       "4                    264588.0          2013   \n",
       "\n",
       "                                       geometry  \n",
       "0    POINT (-73.9312475710101 40.6675764931536)  \n",
       "1  POINT (-73.86262272666154 40.88388553463825)  \n",
       "2  POINT (-73.96072027397858 40.67866550190102)  \n",
       "3  POINT (-73.80423819099072 40.70730934852464)  \n",
       "4  POINT (-73.85558021542973 40.89281638929326)  "
      ]
     },
     "execution_count": 26,
     "metadata": {},
     "output_type": "execute_result"
    }
   ],
   "source": [
    "g_geo.head()"
   ]
  },
  {
   "cell_type": "markdown",
   "metadata": {},
   "source": [
    "### merge census block groups and graffiti complaints"
   ]
  },
  {
   "cell_type": "code",
   "execution_count": 27,
   "metadata": {
    "collapsed": false
   },
   "outputs": [],
   "source": [
    "graffiti = gpd.sjoin(cbg, g_geo, how='left')"
   ]
  },
  {
   "cell_type": "code",
   "execution_count": 28,
   "metadata": {
    "collapsed": false
   },
   "outputs": [
    {
     "name": "stdout",
     "output_type": "stream",
     "text": [
      "44129\n",
      "6442\n"
     ]
    }
   ],
   "source": [
    "print len(graffiti)\n",
    "print len(cbg)"
   ]
  },
  {
   "cell_type": "code",
   "execution_count": 29,
   "metadata": {
    "collapsed": false
   },
   "outputs": [
    {
     "data": {
      "text/plain": [
       "AFFGEOID                         0\n",
       "GEOID                            0\n",
       "COUNTYFP                         0\n",
       "geometry                         0\n",
       "index_right                   1524\n",
       "Unique Key                    1524\n",
       "Created Date                  1524\n",
       "X Coordinate (State Plane)    1524\n",
       "Y Coordinate (State Plane)    1524\n",
       "created_year                  1524\n",
       "dtype: int64"
      ]
     },
     "execution_count": 29,
     "metadata": {},
     "output_type": "execute_result"
    }
   ],
   "source": [
    "graffiti.isnull().sum()"
   ]
  },
  {
   "cell_type": "code",
   "execution_count": 30,
   "metadata": {
    "collapsed": true
   },
   "outputs": [],
   "source": [
    "import numpy as np"
   ]
  },
  {
   "cell_type": "code",
   "execution_count": 31,
   "metadata": {
    "collapsed": false
   },
   "outputs": [],
   "source": [
    "graffiti = graffiti.replace(np.nan, 0)"
   ]
  },
  {
   "cell_type": "code",
   "execution_count": 32,
   "metadata": {
    "collapsed": false
   },
   "outputs": [],
   "source": [
    "graffiti['created_year'] = graffiti['created_year'].astype(int)"
   ]
  },
  {
   "cell_type": "code",
   "execution_count": 33,
   "metadata": {
    "collapsed": true
   },
   "outputs": [],
   "source": [
    "graffiti['created_year'] = graffiti['created_year'].replace(2015, 1)\n",
    "graffiti['created_year'] = graffiti['created_year'].replace(2014, 1)\n",
    "graffiti['created_year'] = graffiti['created_year'].replace(2013, 1)\n",
    "graffiti['graffiti_count'] = graffiti['created_year']"
   ]
  },
  {
   "cell_type": "markdown",
   "metadata": {},
   "source": [
    "### sum the values in 'graffiti_count' to count the number of graffiti complaints between 2013-2015"
   ]
  },
  {
   "cell_type": "code",
   "execution_count": 34,
   "metadata": {
    "collapsed": false
   },
   "outputs": [],
   "source": [
    "graf_counts = pd.DataFrame(graffiti['graffiti_count'].groupby(graffiti['AFFGEOID']).sum())"
   ]
  },
  {
   "cell_type": "code",
   "execution_count": 35,
   "metadata": {
    "collapsed": true
   },
   "outputs": [],
   "source": [
    "graf_counts = graf_counts.reset_index()"
   ]
  },
  {
   "cell_type": "code",
   "execution_count": 36,
   "metadata": {
    "collapsed": false
   },
   "outputs": [
    {
     "data": {
      "text/html": [
       "<div>\n",
       "<table border=\"1\" class=\"dataframe\">\n",
       "  <thead>\n",
       "    <tr style=\"text-align: right;\">\n",
       "      <th></th>\n",
       "      <th>AFFGEOID</th>\n",
       "      <th>graffiti_count</th>\n",
       "    </tr>\n",
       "  </thead>\n",
       "  <tbody>\n",
       "    <tr>\n",
       "      <th>0</th>\n",
       "      <td>1500000US360050001000</td>\n",
       "      <td>0</td>\n",
       "    </tr>\n",
       "    <tr>\n",
       "      <th>1</th>\n",
       "      <td>1500000US360050001001</td>\n",
       "      <td>0</td>\n",
       "    </tr>\n",
       "    <tr>\n",
       "      <th>2</th>\n",
       "      <td>1500000US360050002000</td>\n",
       "      <td>0</td>\n",
       "    </tr>\n",
       "    <tr>\n",
       "      <th>3</th>\n",
       "      <td>1500000US360050002001</td>\n",
       "      <td>5</td>\n",
       "    </tr>\n",
       "    <tr>\n",
       "      <th>4</th>\n",
       "      <td>1500000US360050002002</td>\n",
       "      <td>4</td>\n",
       "    </tr>\n",
       "  </tbody>\n",
       "</table>\n",
       "</div>"
      ],
      "text/plain": [
       "                AFFGEOID  graffiti_count\n",
       "0  1500000US360050001000               0\n",
       "1  1500000US360050001001               0\n",
       "2  1500000US360050002000               0\n",
       "3  1500000US360050002001               5\n",
       "4  1500000US360050002002               4"
      ]
     },
     "execution_count": 36,
     "metadata": {},
     "output_type": "execute_result"
    }
   ],
   "source": [
    "graf_counts.head()"
   ]
  },
  {
   "cell_type": "code",
   "execution_count": 38,
   "metadata": {
    "collapsed": false
   },
   "outputs": [],
   "source": [
    "graffiti['AFFGEOID'] = graffiti['AFFGEOID'].astype(str)"
   ]
  },
  {
   "cell_type": "code",
   "execution_count": 39,
   "metadata": {
    "collapsed": false
   },
   "outputs": [],
   "source": [
    "#graffiti[graffiti['GEOID']==360050002000]"
   ]
  },
  {
   "cell_type": "code",
   "execution_count": 40,
   "metadata": {
    "collapsed": false
   },
   "outputs": [
    {
     "name": "stdout",
     "output_type": "stream",
     "text": [
      "0\n",
      "110\n"
     ]
    }
   ],
   "source": [
    "print min(graf_counts['graffiti_count'])\n",
    "print max(graf_counts['graffiti_count'])"
   ]
  },
  {
   "cell_type": "code",
   "execution_count": 41,
   "metadata": {
    "collapsed": false
   },
   "outputs": [],
   "source": [
    "#print len(graf_counts['GEOID'].unique())\n",
    "#print len(graffiti['GEOID'].unique())"
   ]
  },
  {
   "cell_type": "markdown",
   "metadata": {},
   "source": [
    "### import precincts"
   ]
  },
  {
   "cell_type": "code",
   "execution_count": 42,
   "metadata": {
    "collapsed": true
   },
   "outputs": [],
   "source": [
    "p = gpd.read_file('Police Precincts/geo_export_00b06dd5-82ff-48a1-9401-f80ee795bc70.shp')"
   ]
  },
  {
   "cell_type": "code",
   "execution_count": 43,
   "metadata": {
    "collapsed": false
   },
   "outputs": [
    {
     "data": {
      "text/html": [
       "<div>\n",
       "<table border=\"1\" class=\"dataframe\">\n",
       "  <thead>\n",
       "    <tr style=\"text-align: right;\">\n",
       "      <th></th>\n",
       "      <th>geometry</th>\n",
       "      <th>precinct</th>\n",
       "      <th>shape_area</th>\n",
       "      <th>shape_leng</th>\n",
       "    </tr>\n",
       "  </thead>\n",
       "  <tbody>\n",
       "    <tr>\n",
       "      <th>0</th>\n",
       "      <td>(POLYGON ((-74.0438776157395 40.69018767637665...</td>\n",
       "      <td>1.0</td>\n",
       "      <td>4.718213e+07</td>\n",
       "      <td>79979.389271</td>\n",
       "    </tr>\n",
       "    <tr>\n",
       "      <th>1</th>\n",
       "      <td>POLYGON ((-73.98863862848766 40.72293372026369...</td>\n",
       "      <td>5.0</td>\n",
       "      <td>1.808880e+07</td>\n",
       "      <td>18676.124259</td>\n",
       "    </tr>\n",
       "  </tbody>\n",
       "</table>\n",
       "</div>"
      ],
      "text/plain": [
       "                                            geometry  precinct    shape_area  \\\n",
       "0  (POLYGON ((-74.0438776157395 40.69018767637665...       1.0  4.718213e+07   \n",
       "1  POLYGON ((-73.98863862848766 40.72293372026369...       5.0  1.808880e+07   \n",
       "\n",
       "     shape_leng  \n",
       "0  79979.389271  \n",
       "1  18676.124259  "
      ]
     },
     "execution_count": 43,
     "metadata": {},
     "output_type": "execute_result"
    }
   ],
   "source": [
    "p.head(2)"
   ]
  },
  {
   "cell_type": "code",
   "execution_count": 44,
   "metadata": {
    "collapsed": false
   },
   "outputs": [
    {
     "data": {
      "text/plain": [
       "{'init': u'epsg:4326'}"
      ]
     },
     "execution_count": 44,
     "metadata": {},
     "output_type": "execute_result"
    }
   ],
   "source": [
    "p.crs"
   ]
  },
  {
   "cell_type": "code",
   "execution_count": 45,
   "metadata": {
    "collapsed": true
   },
   "outputs": [],
   "source": [
    "p = p.to_crs({'init':'epsg:4269'})"
   ]
  },
  {
   "cell_type": "code",
   "execution_count": 46,
   "metadata": {
    "collapsed": true
   },
   "outputs": [],
   "source": [
    "graffiti2 = gpd.sjoin(p, g_geo, how='left')"
   ]
  },
  {
   "cell_type": "code",
   "execution_count": 47,
   "metadata": {
    "collapsed": false
   },
   "outputs": [
    {
     "data": {
      "text/html": [
       "<div>\n",
       "<table border=\"1\" class=\"dataframe\">\n",
       "  <thead>\n",
       "    <tr style=\"text-align: right;\">\n",
       "      <th></th>\n",
       "      <th>geometry</th>\n",
       "      <th>precinct</th>\n",
       "      <th>shape_area</th>\n",
       "      <th>shape_leng</th>\n",
       "      <th>index_right</th>\n",
       "      <th>Unique Key</th>\n",
       "      <th>Created Date</th>\n",
       "      <th>X Coordinate (State Plane)</th>\n",
       "      <th>Y Coordinate (State Plane)</th>\n",
       "      <th>created_year</th>\n",
       "    </tr>\n",
       "  </thead>\n",
       "  <tbody>\n",
       "    <tr>\n",
       "      <th>0</th>\n",
       "      <td>(POLYGON ((-74.0438776157395 40.69018767637665...</td>\n",
       "      <td>1.0</td>\n",
       "      <td>4.718213e+07</td>\n",
       "      <td>79979.389271</td>\n",
       "      <td>8876</td>\n",
       "      <td>26407143</td>\n",
       "      <td>2013-09-30 18:50:08</td>\n",
       "      <td>984171.0</td>\n",
       "      <td>197253.0</td>\n",
       "      <td>2013</td>\n",
       "    </tr>\n",
       "    <tr>\n",
       "      <th>0</th>\n",
       "      <td>(POLYGON ((-74.0438776157395 40.69018767637665...</td>\n",
       "      <td>1.0</td>\n",
       "      <td>4.718213e+07</td>\n",
       "      <td>79979.389271</td>\n",
       "      <td>23821</td>\n",
       "      <td>30487558</td>\n",
       "      <td>2015-04-26 11:22:11</td>\n",
       "      <td>979547.0</td>\n",
       "      <td>197606.0</td>\n",
       "      <td>2015</td>\n",
       "    </tr>\n",
       "  </tbody>\n",
       "</table>\n",
       "</div>"
      ],
      "text/plain": [
       "                                            geometry  precinct    shape_area  \\\n",
       "0  (POLYGON ((-74.0438776157395 40.69018767637665...       1.0  4.718213e+07   \n",
       "0  (POLYGON ((-74.0438776157395 40.69018767637665...       1.0  4.718213e+07   \n",
       "\n",
       "     shape_leng  index_right  Unique Key        Created Date  \\\n",
       "0  79979.389271         8876    26407143 2013-09-30 18:50:08   \n",
       "0  79979.389271        23821    30487558 2015-04-26 11:22:11   \n",
       "\n",
       "   X Coordinate (State Plane)  Y Coordinate (State Plane)  created_year  \n",
       "0                    984171.0                    197253.0          2013  \n",
       "0                    979547.0                    197606.0          2015  "
      ]
     },
     "execution_count": 47,
     "metadata": {},
     "output_type": "execute_result"
    }
   ],
   "source": [
    "graffiti2.head(2)"
   ]
  },
  {
   "cell_type": "code",
   "execution_count": 48,
   "metadata": {
    "collapsed": false
   },
   "outputs": [
    {
     "data": {
      "text/plain": [
       "42548"
      ]
     },
     "execution_count": 48,
     "metadata": {},
     "output_type": "execute_result"
    }
   ],
   "source": [
    "len(graffiti2)"
   ]
  },
  {
   "cell_type": "code",
   "execution_count": 49,
   "metadata": {
    "collapsed": true
   },
   "outputs": [],
   "source": [
    "graffiti2['created_year'] = graffiti2['created_year'].replace(2015, 1)\n",
    "graffiti2['created_year'] = graffiti2['created_year'].replace(2014, 1)\n",
    "graffiti2['created_year'] = graffiti2['created_year'].replace(2013, 1)\n",
    "graffiti2['graffiti_count'] = graffiti2['created_year']"
   ]
  },
  {
   "cell_type": "code",
   "execution_count": 50,
   "metadata": {
    "collapsed": true
   },
   "outputs": [],
   "source": [
    "graf_counts2 = pd.DataFrame(graffiti2['graffiti_count'].groupby(graffiti2['precinct']).sum())"
   ]
  },
  {
   "cell_type": "code",
   "execution_count": 51,
   "metadata": {
    "collapsed": true
   },
   "outputs": [],
   "source": [
    "graf_counts2.reset_index(inplace=True)"
   ]
  },
  {
   "cell_type": "code",
   "execution_count": 52,
   "metadata": {
    "collapsed": false
   },
   "outputs": [
    {
     "data": {
      "text/html": [
       "<div>\n",
       "<table border=\"1\" class=\"dataframe\">\n",
       "  <thead>\n",
       "    <tr style=\"text-align: right;\">\n",
       "      <th></th>\n",
       "      <th>precinct</th>\n",
       "      <th>graffiti_count</th>\n",
       "    </tr>\n",
       "  </thead>\n",
       "  <tbody>\n",
       "    <tr>\n",
       "      <th>0</th>\n",
       "      <td>1.0</td>\n",
       "      <td>358</td>\n",
       "    </tr>\n",
       "    <tr>\n",
       "      <th>1</th>\n",
       "      <td>5.0</td>\n",
       "      <td>1550</td>\n",
       "    </tr>\n",
       "    <tr>\n",
       "      <th>2</th>\n",
       "      <td>6.0</td>\n",
       "      <td>247</td>\n",
       "    </tr>\n",
       "    <tr>\n",
       "      <th>3</th>\n",
       "      <td>7.0</td>\n",
       "      <td>834</td>\n",
       "    </tr>\n",
       "    <tr>\n",
       "      <th>4</th>\n",
       "      <td>9.0</td>\n",
       "      <td>786</td>\n",
       "    </tr>\n",
       "  </tbody>\n",
       "</table>\n",
       "</div>"
      ],
      "text/plain": [
       "   precinct  graffiti_count\n",
       "0       1.0             358\n",
       "1       5.0            1550\n",
       "2       6.0             247\n",
       "3       7.0             834\n",
       "4       9.0             786"
      ]
     },
     "execution_count": 52,
     "metadata": {},
     "output_type": "execute_result"
    }
   ],
   "source": [
    "graf_counts2.head()"
   ]
  },
  {
   "cell_type": "code",
   "execution_count": 53,
   "metadata": {
    "collapsed": false
   },
   "outputs": [
    {
     "data": {
      "text/plain": [
       "358"
      ]
     },
     "execution_count": 53,
     "metadata": {},
     "output_type": "execute_result"
    }
   ],
   "source": [
    "len(graffiti2[graffiti2['precinct']==1.0])"
   ]
  },
  {
   "cell_type": "code",
   "execution_count": 54,
   "metadata": {
    "collapsed": true
   },
   "outputs": [],
   "source": [
    "graf_counts2['precinct'] = graf_counts2['precinct'].astype(int)"
   ]
  },
  {
   "cell_type": "code",
   "execution_count": 55,
   "metadata": {
    "collapsed": false
   },
   "outputs": [
    {
     "data": {
      "text/html": [
       "<div>\n",
       "<table border=\"1\" class=\"dataframe\">\n",
       "  <thead>\n",
       "    <tr style=\"text-align: right;\">\n",
       "      <th></th>\n",
       "      <th>Precinct</th>\n",
       "      <th>meanfemale</th>\n",
       "      <th>meanelderl</th>\n",
       "      <th>meanwhite_</th>\n",
       "      <th>meanblack_</th>\n",
       "      <th>meanasian_</th>\n",
       "      <th>meanhh</th>\n",
       "      <th>meanhh_chi</th>\n",
       "      <th>meanhh_liv</th>\n",
       "      <th>meanedu_hi</th>\n",
       "      <th>...</th>\n",
       "      <th>ratio_com</th>\n",
       "      <th>ratio_res</th>\n",
       "      <th>ratio_off</th>\n",
       "      <th>ratio_ret</th>\n",
       "      <th>ratio_gar</th>\n",
       "      <th>ratio_strg</th>\n",
       "      <th>ratio_fac</th>\n",
       "      <th>meandiv_ar</th>\n",
       "      <th>sumFreq</th>\n",
       "      <th>sumbars</th>\n",
       "    </tr>\n",
       "  </thead>\n",
       "  <tbody>\n",
       "    <tr>\n",
       "      <th>0</th>\n",
       "      <td>1</td>\n",
       "      <td>0.49825</td>\n",
       "      <td>0.07057</td>\n",
       "      <td>0.74474</td>\n",
       "      <td>0.0329</td>\n",
       "      <td>0.15403</td>\n",
       "      <td>245.66000</td>\n",
       "      <td>0.43539</td>\n",
       "      <td>0.44691</td>\n",
       "      <td>0.76004</td>\n",
       "      <td>...</td>\n",
       "      <td>0.36046</td>\n",
       "      <td>0.29212</td>\n",
       "      <td>0.18941</td>\n",
       "      <td>0.04615</td>\n",
       "      <td>0.0096</td>\n",
       "      <td>0.02441</td>\n",
       "      <td>0.00128</td>\n",
       "      <td>0.61482</td>\n",
       "      <td>210</td>\n",
       "      <td>84</td>\n",
       "    </tr>\n",
       "    <tr>\n",
       "      <th>1</th>\n",
       "      <td>5</td>\n",
       "      <td>0.48870</td>\n",
       "      <td>0.11206</td>\n",
       "      <td>0.37708</td>\n",
       "      <td>0.0523</td>\n",
       "      <td>0.47612</td>\n",
       "      <td>144.87719</td>\n",
       "      <td>0.25946</td>\n",
       "      <td>0.42496</td>\n",
       "      <td>0.43872</td>\n",
       "      <td>...</td>\n",
       "      <td>0.00000</td>\n",
       "      <td>0.00000</td>\n",
       "      <td>0.00000</td>\n",
       "      <td>0.00000</td>\n",
       "      <td>0.0000</td>\n",
       "      <td>0.00000</td>\n",
       "      <td>0.00000</td>\n",
       "      <td>0.66470</td>\n",
       "      <td>130</td>\n",
       "      <td>40</td>\n",
       "    </tr>\n",
       "  </tbody>\n",
       "</table>\n",
       "<p>2 rows × 27 columns</p>\n",
       "</div>"
      ],
      "text/plain": [
       "   Precinct  meanfemale  meanelderl  meanwhite_  meanblack_  meanasian_  \\\n",
       "0         1     0.49825     0.07057     0.74474      0.0329     0.15403   \n",
       "1         5     0.48870     0.11206     0.37708      0.0523     0.47612   \n",
       "\n",
       "      meanhh  meanhh_chi  meanhh_liv  meanedu_hi   ...     ratio_com  \\\n",
       "0  245.66000     0.43539     0.44691     0.76004   ...       0.36046   \n",
       "1  144.87719     0.25946     0.42496     0.43872   ...       0.00000   \n",
       "\n",
       "   ratio_res  ratio_off  ratio_ret  ratio_gar  ratio_strg  ratio_fac  \\\n",
       "0    0.29212    0.18941    0.04615     0.0096     0.02441    0.00128   \n",
       "1    0.00000    0.00000    0.00000     0.0000     0.00000    0.00000   \n",
       "\n",
       "   meandiv_ar  sumFreq  sumbars  \n",
       "0     0.61482      210       84  \n",
       "1     0.66470      130       40  \n",
       "\n",
       "[2 rows x 27 columns]"
      ]
     },
     "execution_count": 55,
     "metadata": {},
     "output_type": "execute_result"
    }
   ],
   "source": [
    "pct = pd.read_csv('170418_3_pp_w_foursquare_prep.csv')\n",
    "pct = pct.drop('Unnamed: 0',axis=1)\n",
    "pct.head(2)"
   ]
  },
  {
   "cell_type": "code",
   "execution_count": 56,
   "metadata": {
    "collapsed": true
   },
   "outputs": [],
   "source": [
    "pct = pd.merge(pct, graf_counts2, left_on='Precinct', right_on='precinct')"
   ]
  },
  {
   "cell_type": "code",
   "execution_count": 57,
   "metadata": {
    "collapsed": true
   },
   "outputs": [],
   "source": [
    "pct = pct.drop('precinct',axis=1)"
   ]
  },
  {
   "cell_type": "code",
   "execution_count": 58,
   "metadata": {
    "collapsed": false
   },
   "outputs": [
    {
     "data": {
      "text/html": [
       "<div>\n",
       "<table border=\"1\" class=\"dataframe\">\n",
       "  <thead>\n",
       "    <tr style=\"text-align: right;\">\n",
       "      <th></th>\n",
       "      <th>Precinct</th>\n",
       "      <th>meanfemale</th>\n",
       "      <th>meanelderl</th>\n",
       "      <th>meanwhite_</th>\n",
       "      <th>meanblack_</th>\n",
       "      <th>meanasian_</th>\n",
       "      <th>meanhh</th>\n",
       "      <th>meanhh_chi</th>\n",
       "      <th>meanhh_liv</th>\n",
       "      <th>meanedu_hi</th>\n",
       "      <th>...</th>\n",
       "      <th>ratio_res</th>\n",
       "      <th>ratio_off</th>\n",
       "      <th>ratio_ret</th>\n",
       "      <th>ratio_gar</th>\n",
       "      <th>ratio_strg</th>\n",
       "      <th>ratio_fac</th>\n",
       "      <th>meandiv_ar</th>\n",
       "      <th>sumFreq</th>\n",
       "      <th>sumbars</th>\n",
       "      <th>graffiti_count</th>\n",
       "    </tr>\n",
       "  </thead>\n",
       "  <tbody>\n",
       "    <tr>\n",
       "      <th>0</th>\n",
       "      <td>1</td>\n",
       "      <td>0.49825</td>\n",
       "      <td>0.07057</td>\n",
       "      <td>0.74474</td>\n",
       "      <td>0.03290</td>\n",
       "      <td>0.15403</td>\n",
       "      <td>245.66000</td>\n",
       "      <td>0.43539</td>\n",
       "      <td>0.44691</td>\n",
       "      <td>0.76004</td>\n",
       "      <td>...</td>\n",
       "      <td>0.29212</td>\n",
       "      <td>0.18941</td>\n",
       "      <td>0.04615</td>\n",
       "      <td>0.00960</td>\n",
       "      <td>0.02441</td>\n",
       "      <td>0.00128</td>\n",
       "      <td>0.61482</td>\n",
       "      <td>210</td>\n",
       "      <td>84</td>\n",
       "      <td>358</td>\n",
       "    </tr>\n",
       "    <tr>\n",
       "      <th>1</th>\n",
       "      <td>5</td>\n",
       "      <td>0.48870</td>\n",
       "      <td>0.11206</td>\n",
       "      <td>0.37708</td>\n",
       "      <td>0.05230</td>\n",
       "      <td>0.47612</td>\n",
       "      <td>144.87719</td>\n",
       "      <td>0.25946</td>\n",
       "      <td>0.42496</td>\n",
       "      <td>0.43872</td>\n",
       "      <td>...</td>\n",
       "      <td>0.00000</td>\n",
       "      <td>0.00000</td>\n",
       "      <td>0.00000</td>\n",
       "      <td>0.00000</td>\n",
       "      <td>0.00000</td>\n",
       "      <td>0.00000</td>\n",
       "      <td>0.66470</td>\n",
       "      <td>130</td>\n",
       "      <td>40</td>\n",
       "      <td>1550</td>\n",
       "    </tr>\n",
       "    <tr>\n",
       "      <th>2</th>\n",
       "      <td>6</td>\n",
       "      <td>0.49669</td>\n",
       "      <td>0.09824</td>\n",
       "      <td>0.83960</td>\n",
       "      <td>0.02427</td>\n",
       "      <td>0.08845</td>\n",
       "      <td>108.34375</td>\n",
       "      <td>0.38256</td>\n",
       "      <td>0.56843</td>\n",
       "      <td>0.77366</td>\n",
       "      <td>...</td>\n",
       "      <td>0.51035</td>\n",
       "      <td>0.09272</td>\n",
       "      <td>0.06752</td>\n",
       "      <td>0.02762</td>\n",
       "      <td>0.01078</td>\n",
       "      <td>0.00135</td>\n",
       "      <td>0.55937</td>\n",
       "      <td>385</td>\n",
       "      <td>112</td>\n",
       "      <td>247</td>\n",
       "    </tr>\n",
       "    <tr>\n",
       "      <th>3</th>\n",
       "      <td>7</td>\n",
       "      <td>0.51967</td>\n",
       "      <td>0.14202</td>\n",
       "      <td>0.37639</td>\n",
       "      <td>0.09229</td>\n",
       "      <td>0.34302</td>\n",
       "      <td>178.68750</td>\n",
       "      <td>0.18567</td>\n",
       "      <td>0.44041</td>\n",
       "      <td>0.36402</td>\n",
       "      <td>...</td>\n",
       "      <td>0.57893</td>\n",
       "      <td>0.01635</td>\n",
       "      <td>0.04601</td>\n",
       "      <td>0.02086</td>\n",
       "      <td>0.00748</td>\n",
       "      <td>0.00162</td>\n",
       "      <td>0.46920</td>\n",
       "      <td>197</td>\n",
       "      <td>52</td>\n",
       "      <td>834</td>\n",
       "    </tr>\n",
       "    <tr>\n",
       "      <th>4</th>\n",
       "      <td>9</td>\n",
       "      <td>0.51897</td>\n",
       "      <td>0.07346</td>\n",
       "      <td>0.63156</td>\n",
       "      <td>0.07417</td>\n",
       "      <td>0.15358</td>\n",
       "      <td>135.56716</td>\n",
       "      <td>0.20519</td>\n",
       "      <td>0.50965</td>\n",
       "      <td>0.59596</td>\n",
       "      <td>...</td>\n",
       "      <td>0.57351</td>\n",
       "      <td>0.04600</td>\n",
       "      <td>0.06289</td>\n",
       "      <td>0.01275</td>\n",
       "      <td>0.00675</td>\n",
       "      <td>0.00034</td>\n",
       "      <td>0.52823</td>\n",
       "      <td>424</td>\n",
       "      <td>143</td>\n",
       "      <td>786</td>\n",
       "    </tr>\n",
       "  </tbody>\n",
       "</table>\n",
       "<p>5 rows × 28 columns</p>\n",
       "</div>"
      ],
      "text/plain": [
       "   Precinct  meanfemale  meanelderl  meanwhite_  meanblack_  meanasian_  \\\n",
       "0         1     0.49825     0.07057     0.74474     0.03290     0.15403   \n",
       "1         5     0.48870     0.11206     0.37708     0.05230     0.47612   \n",
       "2         6     0.49669     0.09824     0.83960     0.02427     0.08845   \n",
       "3         7     0.51967     0.14202     0.37639     0.09229     0.34302   \n",
       "4         9     0.51897     0.07346     0.63156     0.07417     0.15358   \n",
       "\n",
       "      meanhh  meanhh_chi  meanhh_liv  meanedu_hi       ...        ratio_res  \\\n",
       "0  245.66000     0.43539     0.44691     0.76004       ...          0.29212   \n",
       "1  144.87719     0.25946     0.42496     0.43872       ...          0.00000   \n",
       "2  108.34375     0.38256     0.56843     0.77366       ...          0.51035   \n",
       "3  178.68750     0.18567     0.44041     0.36402       ...          0.57893   \n",
       "4  135.56716     0.20519     0.50965     0.59596       ...          0.57351   \n",
       "\n",
       "   ratio_off  ratio_ret  ratio_gar  ratio_strg  ratio_fac  meandiv_ar  \\\n",
       "0    0.18941    0.04615    0.00960     0.02441    0.00128     0.61482   \n",
       "1    0.00000    0.00000    0.00000     0.00000    0.00000     0.66470   \n",
       "2    0.09272    0.06752    0.02762     0.01078    0.00135     0.55937   \n",
       "3    0.01635    0.04601    0.02086     0.00748    0.00162     0.46920   \n",
       "4    0.04600    0.06289    0.01275     0.00675    0.00034     0.52823   \n",
       "\n",
       "   sumFreq  sumbars  graffiti_count  \n",
       "0      210       84             358  \n",
       "1      130       40            1550  \n",
       "2      385      112             247  \n",
       "3      197       52             834  \n",
       "4      424      143             786  \n",
       "\n",
       "[5 rows x 28 columns]"
      ]
     },
     "execution_count": 58,
     "metadata": {},
     "output_type": "execute_result"
    }
   ],
   "source": [
    "pct.head()"
   ]
  },
  {
   "cell_type": "code",
   "execution_count": 59,
   "metadata": {
    "collapsed": true
   },
   "outputs": [],
   "source": [
    "pct.to_csv('pct_data_4_18.csv')"
   ]
  },
  {
   "cell_type": "markdown",
   "metadata": {},
   "source": [
    "### import noise data"
   ]
  },
  {
   "cell_type": "code",
   "execution_count": 62,
   "metadata": {
    "collapsed": true
   },
   "outputs": [],
   "source": [
    "noise = pd.read_csv('ny_cb_shp_w_noise_counts')"
   ]
  },
  {
   "cell_type": "code",
   "execution_count": 63,
   "metadata": {
    "collapsed": false
   },
   "outputs": [
    {
     "data": {
      "text/html": [
       "<div>\n",
       "<table border=\"1\" class=\"dataframe\">\n",
       "  <thead>\n",
       "    <tr style=\"text-align: right;\">\n",
       "      <th></th>\n",
       "      <th>Unnamed: 0</th>\n",
       "      <th>AFFGEOID</th>\n",
       "      <th>GEOID</th>\n",
       "      <th>geometry</th>\n",
       "      <th>Descriptor</th>\n",
       "    </tr>\n",
       "  </thead>\n",
       "  <tbody>\n",
       "    <tr>\n",
       "      <th>0</th>\n",
       "      <td>0</td>\n",
       "      <td>1500000US360850156031</td>\n",
       "      <td>360850156031</td>\n",
       "      <td>POLYGON ((-74.16134900000002 40.529374, -74.15...</td>\n",
       "      <td>30</td>\n",
       "    </tr>\n",
       "    <tr>\n",
       "      <th>1</th>\n",
       "      <td>1</td>\n",
       "      <td>1500000US360050004001</td>\n",
       "      <td>360050004001</td>\n",
       "      <td>POLYGON ((-73.85870299999999 40.815405, -73.85...</td>\n",
       "      <td>38</td>\n",
       "    </tr>\n",
       "  </tbody>\n",
       "</table>\n",
       "</div>"
      ],
      "text/plain": [
       "   Unnamed: 0               AFFGEOID         GEOID  \\\n",
       "0           0  1500000US360850156031  360850156031   \n",
       "1           1  1500000US360050004001  360050004001   \n",
       "\n",
       "                                            geometry  Descriptor  \n",
       "0  POLYGON ((-74.16134900000002 40.529374, -74.15...          30  \n",
       "1  POLYGON ((-73.85870299999999 40.815405, -73.85...          38  "
      ]
     },
     "execution_count": 63,
     "metadata": {},
     "output_type": "execute_result"
    }
   ],
   "source": [
    "noise.head(2)"
   ]
  },
  {
   "cell_type": "code",
   "execution_count": 64,
   "metadata": {
    "collapsed": true
   },
   "outputs": [],
   "source": [
    "noise = noise.drop('Unnamed: 0',axis=1)"
   ]
  },
  {
   "cell_type": "code",
   "execution_count": 65,
   "metadata": {
    "collapsed": false
   },
   "outputs": [
    {
     "data": {
      "text/plain": [
       "dtype('int64')"
      ]
     },
     "execution_count": 65,
     "metadata": {},
     "output_type": "execute_result"
    }
   ],
   "source": [
    "noise['AFFGEOID'].dtypes"
   ]
  },
  {
   "cell_type": "code",
   "execution_count": 67,
   "metadata": {
    "collapsed": false
   },
   "outputs": [
    {
     "data": {
      "text/plain": [
       "dtype('O')"
      ]
     },
     "execution_count": 67,
     "metadata": {},
     "output_type": "execute_result"
    }
   ],
   "source": [
    "graf_counts['AFFGEOID'].dtypes"
   ]
  },
  {
   "cell_type": "code",
   "execution_count": 68,
   "metadata": {
    "collapsed": true
   },
   "outputs": [],
   "source": [
    "graf_counts['AFFGEOID'] = graf_counts['AFFGEOID'].astype(str)"
   ]
  },
  {
   "cell_type": "code",
   "execution_count": 69,
   "metadata": {
    "collapsed": true
   },
   "outputs": [],
   "source": [
    "noise['AFFGEOID'] = noise['AFFGEOID'].astype(str)"
   ]
  },
  {
   "cell_type": "code",
   "execution_count": 124,
   "metadata": {
    "collapsed": true
   },
   "outputs": [],
   "source": [
    "noise_graf = pd.merge(noise, graf_counts, on='AFFGEOID')"
   ]
  },
  {
   "cell_type": "code",
   "execution_count": 125,
   "metadata": {
    "collapsed": false
   },
   "outputs": [
    {
     "data": {
      "text/plain": [
       "Index([u'AFFGEOID', u'GEOID', u'geometry', u'Descriptor'], dtype='object')"
      ]
     },
     "execution_count": 125,
     "metadata": {},
     "output_type": "execute_result"
    }
   ],
   "source": [
    "noise.columns"
   ]
  },
  {
   "cell_type": "code",
   "execution_count": 126,
   "metadata": {
    "collapsed": false
   },
   "outputs": [
    {
     "data": {
      "text/plain": [
       "Index([u'AFFGEOID', u'graffiti_count'], dtype='object')"
      ]
     },
     "execution_count": 126,
     "metadata": {},
     "output_type": "execute_result"
    }
   ],
   "source": [
    "graf_counts.columns"
   ]
  },
  {
   "cell_type": "code",
   "execution_count": 127,
   "metadata": {
    "collapsed": false
   },
   "outputs": [
    {
     "data": {
      "text/html": [
       "<div>\n",
       "<table border=\"1\" class=\"dataframe\">\n",
       "  <thead>\n",
       "    <tr style=\"text-align: right;\">\n",
       "      <th></th>\n",
       "      <th>AFFGEOID</th>\n",
       "      <th>GEOID</th>\n",
       "      <th>geometry</th>\n",
       "      <th>Descriptor</th>\n",
       "    </tr>\n",
       "  </thead>\n",
       "  <tbody>\n",
       "    <tr>\n",
       "      <th>0</th>\n",
       "      <td>1500000US360850156031</td>\n",
       "      <td>360850156031</td>\n",
       "      <td>POLYGON ((-74.16134900000002 40.529374, -74.15...</td>\n",
       "      <td>30</td>\n",
       "    </tr>\n",
       "    <tr>\n",
       "      <th>1</th>\n",
       "      <td>1500000US360050004001</td>\n",
       "      <td>360050004001</td>\n",
       "      <td>POLYGON ((-73.85870299999999 40.815405, -73.85...</td>\n",
       "      <td>38</td>\n",
       "    </tr>\n",
       "  </tbody>\n",
       "</table>\n",
       "</div>"
      ],
      "text/plain": [
       "                AFFGEOID         GEOID  \\\n",
       "0  1500000US360850156031  360850156031   \n",
       "1  1500000US360050004001  360050004001   \n",
       "\n",
       "                                            geometry  Descriptor  \n",
       "0  POLYGON ((-74.16134900000002 40.529374, -74.15...          30  \n",
       "1  POLYGON ((-73.85870299999999 40.815405, -73.85...          38  "
      ]
     },
     "execution_count": 127,
     "metadata": {},
     "output_type": "execute_result"
    }
   ],
   "source": [
    "noise.head(2)"
   ]
  },
  {
   "cell_type": "code",
   "execution_count": 128,
   "metadata": {
    "collapsed": false
   },
   "outputs": [
    {
     "data": {
      "text/html": [
       "<div>\n",
       "<table border=\"1\" class=\"dataframe\">\n",
       "  <thead>\n",
       "    <tr style=\"text-align: right;\">\n",
       "      <th></th>\n",
       "      <th>AFFGEOID</th>\n",
       "      <th>graffiti_count</th>\n",
       "    </tr>\n",
       "  </thead>\n",
       "  <tbody>\n",
       "    <tr>\n",
       "      <th>0</th>\n",
       "      <td>1500000US360050001000</td>\n",
       "      <td>0</td>\n",
       "    </tr>\n",
       "    <tr>\n",
       "      <th>1</th>\n",
       "      <td>1500000US360050001001</td>\n",
       "      <td>0</td>\n",
       "    </tr>\n",
       "  </tbody>\n",
       "</table>\n",
       "</div>"
      ],
      "text/plain": [
       "                AFFGEOID  graffiti_count\n",
       "0  1500000US360050001000               0\n",
       "1  1500000US360050001001               0"
      ]
     },
     "execution_count": 128,
     "metadata": {},
     "output_type": "execute_result"
    }
   ],
   "source": [
    "graf_counts.head(2)"
   ]
  },
  {
   "cell_type": "code",
   "execution_count": 129,
   "metadata": {
    "collapsed": false
   },
   "outputs": [
    {
     "name": "stdout",
     "output_type": "stream",
     "text": [
      "6442\n",
      "6304\n",
      "6442\n",
      "6296\n"
     ]
    }
   ],
   "source": [
    "print len(cbg['AFFGEOID'].unique())\n",
    "print len(noise['AFFGEOID'].unique())\n",
    "print len(graf_counts['AFFGEOID'].unique())\n",
    "print len(noise_graf['AFFGEOID'].unique())"
   ]
  },
  {
   "cell_type": "code",
   "execution_count": 130,
   "metadata": {
    "collapsed": false
   },
   "outputs": [
    {
     "data": {
      "text/html": [
       "<div>\n",
       "<table border=\"1\" class=\"dataframe\">\n",
       "  <thead>\n",
       "    <tr style=\"text-align: right;\">\n",
       "      <th></th>\n",
       "      <th>AFFGEOID</th>\n",
       "      <th>GEOID</th>\n",
       "      <th>geometry</th>\n",
       "      <th>Descriptor</th>\n",
       "      <th>graffiti_count</th>\n",
       "    </tr>\n",
       "  </thead>\n",
       "  <tbody>\n",
       "    <tr>\n",
       "      <th>0</th>\n",
       "      <td>1500000US360850156031</td>\n",
       "      <td>360850156031</td>\n",
       "      <td>POLYGON ((-74.16134900000002 40.529374, -74.15...</td>\n",
       "      <td>30</td>\n",
       "      <td>0</td>\n",
       "    </tr>\n",
       "    <tr>\n",
       "      <th>1</th>\n",
       "      <td>1500000US360050004001</td>\n",
       "      <td>360050004001</td>\n",
       "      <td>POLYGON ((-73.85870299999999 40.815405, -73.85...</td>\n",
       "      <td>38</td>\n",
       "      <td>16</td>\n",
       "    </tr>\n",
       "    <tr>\n",
       "      <th>2</th>\n",
       "      <td>1500000US360811447001</td>\n",
       "      <td>360811447001</td>\n",
       "      <td>POLYGON ((-73.77740299999999 40.758214, -73.77...</td>\n",
       "      <td>36</td>\n",
       "      <td>2</td>\n",
       "    </tr>\n",
       "    <tr>\n",
       "      <th>3</th>\n",
       "      <td>1500000US360810269013</td>\n",
       "      <td>360810269013</td>\n",
       "      <td>POLYGON ((-73.88256200000001 40.747663, -73.87...</td>\n",
       "      <td>76</td>\n",
       "      <td>1</td>\n",
       "    </tr>\n",
       "    <tr>\n",
       "      <th>4</th>\n",
       "      <td>1500000US360470444001</td>\n",
       "      <td>360470444001</td>\n",
       "      <td>POLYGON ((-73.969112 40.61701, -73.96774000000...</td>\n",
       "      <td>9</td>\n",
       "      <td>2</td>\n",
       "    </tr>\n",
       "  </tbody>\n",
       "</table>\n",
       "</div>"
      ],
      "text/plain": [
       "                AFFGEOID         GEOID  \\\n",
       "0  1500000US360850156031  360850156031   \n",
       "1  1500000US360050004001  360050004001   \n",
       "2  1500000US360811447001  360811447001   \n",
       "3  1500000US360810269013  360810269013   \n",
       "4  1500000US360470444001  360470444001   \n",
       "\n",
       "                                            geometry  Descriptor  \\\n",
       "0  POLYGON ((-74.16134900000002 40.529374, -74.15...          30   \n",
       "1  POLYGON ((-73.85870299999999 40.815405, -73.85...          38   \n",
       "2  POLYGON ((-73.77740299999999 40.758214, -73.77...          36   \n",
       "3  POLYGON ((-73.88256200000001 40.747663, -73.87...          76   \n",
       "4  POLYGON ((-73.969112 40.61701, -73.96774000000...           9   \n",
       "\n",
       "   graffiti_count  \n",
       "0               0  \n",
       "1              16  \n",
       "2               2  \n",
       "3               1  \n",
       "4               2  "
      ]
     },
     "execution_count": 130,
     "metadata": {},
     "output_type": "execute_result"
    }
   ],
   "source": [
    "noise_graf.head()"
   ]
  },
  {
   "cell_type": "code",
   "execution_count": 131,
   "metadata": {
    "collapsed": false
   },
   "outputs": [],
   "source": [
    "noise_graf = noise_graf.rename(columns={\"Descriptor\":\"noise_count\"})"
   ]
  },
  {
   "cell_type": "code",
   "execution_count": 132,
   "metadata": {
    "collapsed": false
   },
   "outputs": [
    {
     "data": {
      "text/html": [
       "<div>\n",
       "<table border=\"1\" class=\"dataframe\">\n",
       "  <thead>\n",
       "    <tr style=\"text-align: right;\">\n",
       "      <th></th>\n",
       "      <th>AFFGEOID</th>\n",
       "      <th>GEOID</th>\n",
       "      <th>geometry</th>\n",
       "      <th>noise_count</th>\n",
       "      <th>graffiti_count</th>\n",
       "    </tr>\n",
       "  </thead>\n",
       "  <tbody>\n",
       "    <tr>\n",
       "      <th>0</th>\n",
       "      <td>1500000US360850156031</td>\n",
       "      <td>360850156031</td>\n",
       "      <td>POLYGON ((-74.16134900000002 40.529374, -74.15...</td>\n",
       "      <td>30</td>\n",
       "      <td>0</td>\n",
       "    </tr>\n",
       "    <tr>\n",
       "      <th>1</th>\n",
       "      <td>1500000US360050004001</td>\n",
       "      <td>360050004001</td>\n",
       "      <td>POLYGON ((-73.85870299999999 40.815405, -73.85...</td>\n",
       "      <td>38</td>\n",
       "      <td>16</td>\n",
       "    </tr>\n",
       "  </tbody>\n",
       "</table>\n",
       "</div>"
      ],
      "text/plain": [
       "                AFFGEOID         GEOID  \\\n",
       "0  1500000US360850156031  360850156031   \n",
       "1  1500000US360050004001  360050004001   \n",
       "\n",
       "                                            geometry  noise_count  \\\n",
       "0  POLYGON ((-74.16134900000002 40.529374, -74.15...           30   \n",
       "1  POLYGON ((-73.85870299999999 40.815405, -73.85...           38   \n",
       "\n",
       "   graffiti_count  \n",
       "0               0  \n",
       "1              16  "
      ]
     },
     "execution_count": 132,
     "metadata": {},
     "output_type": "execute_result"
    }
   ],
   "source": [
    "noise_graf.head(2)"
   ]
  },
  {
   "cell_type": "code",
   "execution_count": 133,
   "metadata": {
    "collapsed": false
   },
   "outputs": [],
   "source": [
    "noise_graf['AFFGEOID'] = noise_graf['AFFGEOID'].astype(str)"
   ]
  },
  {
   "cell_type": "code",
   "execution_count": 134,
   "metadata": {
    "collapsed": false
   },
   "outputs": [],
   "source": [
    "noise_graf = noise_graf.drop('geometry',axis=1)"
   ]
  },
  {
   "cell_type": "code",
   "execution_count": 135,
   "metadata": {
    "collapsed": false
   },
   "outputs": [],
   "source": [
    "noise_graf.to_csv('noise_graf_counts_cbg.csv')"
   ]
  },
  {
   "cell_type": "markdown",
   "metadata": {},
   "source": [
    "### variables from martin"
   ]
  },
  {
   "cell_type": "code",
   "execution_count": 136,
   "metadata": {
    "collapsed": true
   },
   "outputs": [],
   "source": [
    "ind = pd.read_csv('170418_3_cbg_w_foursquare_prep.csv')"
   ]
  },
  {
   "cell_type": "code",
   "execution_count": 137,
   "metadata": {
    "collapsed": false
   },
   "outputs": [
    {
     "data": {
      "text/html": [
       "<div>\n",
       "<table border=\"1\" class=\"dataframe\">\n",
       "  <thead>\n",
       "    <tr style=\"text-align: right;\">\n",
       "      <th></th>\n",
       "      <th>Unnamed: 0</th>\n",
       "      <th>Id2</th>\n",
       "      <th>AFFGEOID_x</th>\n",
       "      <th>GEOID_x</th>\n",
       "      <th>pop</th>\n",
       "      <th>female_r</th>\n",
       "      <th>elderly_r</th>\n",
       "      <th>white_r</th>\n",
       "      <th>black_r</th>\n",
       "      <th>asian_r</th>\n",
       "      <th>...</th>\n",
       "      <th>ratio_com</th>\n",
       "      <th>ratio_res</th>\n",
       "      <th>ratio_off</th>\n",
       "      <th>ratio_ret</th>\n",
       "      <th>ratio_gar</th>\n",
       "      <th>ratio_strg</th>\n",
       "      <th>ratio_fac</th>\n",
       "      <th>div_areas</th>\n",
       "      <th>sumFreq</th>\n",
       "      <th>sumbars</th>\n",
       "    </tr>\n",
       "  </thead>\n",
       "  <tbody>\n",
       "    <tr>\n",
       "      <th>0</th>\n",
       "      <td>1</td>\n",
       "      <td>360610211000</td>\n",
       "      <td>1500000US360610211000</td>\n",
       "      <td>360610211000</td>\n",
       "      <td>0</td>\n",
       "      <td>0.0000</td>\n",
       "      <td>0.00000</td>\n",
       "      <td>0.00000</td>\n",
       "      <td>0.0</td>\n",
       "      <td>0.00000</td>\n",
       "      <td>...</td>\n",
       "      <td>0.0000</td>\n",
       "      <td>0.00000</td>\n",
       "      <td>0.00000</td>\n",
       "      <td>0.00000</td>\n",
       "      <td>0.00000</td>\n",
       "      <td>0.00000</td>\n",
       "      <td>0.00000</td>\n",
       "      <td>0.0000</td>\n",
       "      <td>0</td>\n",
       "      <td>0</td>\n",
       "    </tr>\n",
       "    <tr>\n",
       "      <th>1</th>\n",
       "      <td>2</td>\n",
       "      <td>360470228003</td>\n",
       "      <td>1500000US360470228003</td>\n",
       "      <td>360470228003</td>\n",
       "      <td>816</td>\n",
       "      <td>0.4277</td>\n",
       "      <td>0.00613</td>\n",
       "      <td>0.96324</td>\n",
       "      <td>0.0</td>\n",
       "      <td>0.03676</td>\n",
       "      <td>...</td>\n",
       "      <td>0.4488</td>\n",
       "      <td>0.10344</td>\n",
       "      <td>0.03381</td>\n",
       "      <td>0.05086</td>\n",
       "      <td>0.02349</td>\n",
       "      <td>0.01204</td>\n",
       "      <td>0.29418</td>\n",
       "      <td>0.6958</td>\n",
       "      <td>0</td>\n",
       "      <td>0</td>\n",
       "    </tr>\n",
       "  </tbody>\n",
       "</table>\n",
       "<p>2 rows × 42 columns</p>\n",
       "</div>"
      ],
      "text/plain": [
       "   Unnamed: 0           Id2             AFFGEOID_x       GEOID_x  pop  \\\n",
       "0           1  360610211000  1500000US360610211000  360610211000    0   \n",
       "1           2  360470228003  1500000US360470228003  360470228003  816   \n",
       "\n",
       "   female_r  elderly_r  white_r  black_r  asian_r   ...     ratio_com  \\\n",
       "0    0.0000    0.00000  0.00000      0.0  0.00000   ...        0.0000   \n",
       "1    0.4277    0.00613  0.96324      0.0  0.03676   ...        0.4488   \n",
       "\n",
       "   ratio_res  ratio_off  ratio_ret  ratio_gar  ratio_strg  ratio_fac  \\\n",
       "0    0.00000    0.00000    0.00000    0.00000     0.00000    0.00000   \n",
       "1    0.10344    0.03381    0.05086    0.02349     0.01204    0.29418   \n",
       "\n",
       "   div_areas  sumFreq  sumbars  \n",
       "0     0.0000        0        0  \n",
       "1     0.6958        0        0  \n",
       "\n",
       "[2 rows x 42 columns]"
      ]
     },
     "execution_count": 137,
     "metadata": {},
     "output_type": "execute_result"
    }
   ],
   "source": [
    "ind.head(2)"
   ]
  },
  {
   "cell_type": "code",
   "execution_count": 138,
   "metadata": {
    "collapsed": true
   },
   "outputs": [],
   "source": [
    "ind = ind.drop('Unnamed: 0',axis=1)"
   ]
  },
  {
   "cell_type": "code",
   "execution_count": 139,
   "metadata": {
    "collapsed": false
   },
   "outputs": [
    {
     "data": {
      "text/html": [
       "<div>\n",
       "<table border=\"1\" class=\"dataframe\">\n",
       "  <thead>\n",
       "    <tr style=\"text-align: right;\">\n",
       "      <th></th>\n",
       "      <th>Id2</th>\n",
       "      <th>AFFGEOID_x</th>\n",
       "      <th>GEOID_x</th>\n",
       "      <th>pop</th>\n",
       "      <th>female_r</th>\n",
       "      <th>elderly_r</th>\n",
       "      <th>white_r</th>\n",
       "      <th>black_r</th>\n",
       "      <th>asian_r</th>\n",
       "      <th>hh</th>\n",
       "      <th>...</th>\n",
       "      <th>ratio_com</th>\n",
       "      <th>ratio_res</th>\n",
       "      <th>ratio_off</th>\n",
       "      <th>ratio_ret</th>\n",
       "      <th>ratio_gar</th>\n",
       "      <th>ratio_strg</th>\n",
       "      <th>ratio_fac</th>\n",
       "      <th>div_areas</th>\n",
       "      <th>sumFreq</th>\n",
       "      <th>sumbars</th>\n",
       "    </tr>\n",
       "  </thead>\n",
       "  <tbody>\n",
       "    <tr>\n",
       "      <th>0</th>\n",
       "      <td>360610211000</td>\n",
       "      <td>1500000US360610211000</td>\n",
       "      <td>360610211000</td>\n",
       "      <td>0</td>\n",
       "      <td>0.0000</td>\n",
       "      <td>0.00000</td>\n",
       "      <td>0.00000</td>\n",
       "      <td>0.0</td>\n",
       "      <td>0.00000</td>\n",
       "      <td>0</td>\n",
       "      <td>...</td>\n",
       "      <td>0.0000</td>\n",
       "      <td>0.00000</td>\n",
       "      <td>0.00000</td>\n",
       "      <td>0.00000</td>\n",
       "      <td>0.00000</td>\n",
       "      <td>0.00000</td>\n",
       "      <td>0.00000</td>\n",
       "      <td>0.0000</td>\n",
       "      <td>0</td>\n",
       "      <td>0</td>\n",
       "    </tr>\n",
       "    <tr>\n",
       "      <th>1</th>\n",
       "      <td>360470228003</td>\n",
       "      <td>1500000US360470228003</td>\n",
       "      <td>360470228003</td>\n",
       "      <td>816</td>\n",
       "      <td>0.4277</td>\n",
       "      <td>0.00613</td>\n",
       "      <td>0.96324</td>\n",
       "      <td>0.0</td>\n",
       "      <td>0.03676</td>\n",
       "      <td>485</td>\n",
       "      <td>...</td>\n",
       "      <td>0.4488</td>\n",
       "      <td>0.10344</td>\n",
       "      <td>0.03381</td>\n",
       "      <td>0.05086</td>\n",
       "      <td>0.02349</td>\n",
       "      <td>0.01204</td>\n",
       "      <td>0.29418</td>\n",
       "      <td>0.6958</td>\n",
       "      <td>0</td>\n",
       "      <td>0</td>\n",
       "    </tr>\n",
       "  </tbody>\n",
       "</table>\n",
       "<p>2 rows × 41 columns</p>\n",
       "</div>"
      ],
      "text/plain": [
       "            Id2             AFFGEOID_x       GEOID_x  pop  female_r  \\\n",
       "0  360610211000  1500000US360610211000  360610211000    0    0.0000   \n",
       "1  360470228003  1500000US360470228003  360470228003  816    0.4277   \n",
       "\n",
       "   elderly_r  white_r  black_r  asian_r   hh   ...     ratio_com  ratio_res  \\\n",
       "0    0.00000  0.00000      0.0  0.00000    0   ...        0.0000    0.00000   \n",
       "1    0.00613  0.96324      0.0  0.03676  485   ...        0.4488    0.10344   \n",
       "\n",
       "   ratio_off  ratio_ret  ratio_gar  ratio_strg  ratio_fac  div_areas  sumFreq  \\\n",
       "0    0.00000    0.00000    0.00000     0.00000    0.00000     0.0000        0   \n",
       "1    0.03381    0.05086    0.02349     0.01204    0.29418     0.6958        0   \n",
       "\n",
       "   sumbars  \n",
       "0        0  \n",
       "1        0  \n",
       "\n",
       "[2 rows x 41 columns]"
      ]
     },
     "execution_count": 139,
     "metadata": {},
     "output_type": "execute_result"
    }
   ],
   "source": [
    "ind.head(2)"
   ]
  },
  {
   "cell_type": "code",
   "execution_count": 140,
   "metadata": {
    "collapsed": false
   },
   "outputs": [
    {
     "data": {
      "text/plain": [
       "Index([u'Id2', u'AFFGEOID_x', u'GEOID_x', u'pop', u'female_r', u'elderly_r',\n",
       "       u'white_r', u'black_r', u'asian_r', u'hh', u'hh_child_6', u'hh_living_',\n",
       "       u'edu_high_r', u'non_eng_r', u'unemployed', u'vacancy_r', u'med_rent',\n",
       "       u'med_income', u'merried_r', u'longercomm', u'BldgArea', u'ComArea',\n",
       "       u'ResArea', u'OfficeArea', u'RetailArea', u'GarageArea', u'StrgeArea',\n",
       "       u'FactryArea', u'OtherArea', u'NumBldgs', u'sum_areas', u'ratio_com',\n",
       "       u'ratio_res', u'ratio_off', u'ratio_ret', u'ratio_gar', u'ratio_strg',\n",
       "       u'ratio_fac', u'div_areas', u'sumFreq', u'sumbars'],\n",
       "      dtype='object')"
      ]
     },
     "execution_count": 140,
     "metadata": {},
     "output_type": "execute_result"
    }
   ],
   "source": [
    "ind.columns"
   ]
  },
  {
   "cell_type": "code",
   "execution_count": 141,
   "metadata": {
    "collapsed": true
   },
   "outputs": [],
   "source": [
    "ind = ind.rename(columns={'AFFGEOID_x':'AFFGEOID', 'GEOID_x':'GEOID'})"
   ]
  },
  {
   "cell_type": "code",
   "execution_count": 142,
   "metadata": {
    "collapsed": false
   },
   "outputs": [
    {
     "data": {
      "text/plain": [
       "6442"
      ]
     },
     "execution_count": 142,
     "metadata": {},
     "output_type": "execute_result"
    }
   ],
   "source": [
    "len(ind)"
   ]
  },
  {
   "cell_type": "code",
   "execution_count": 143,
   "metadata": {
    "collapsed": false
   },
   "outputs": [],
   "source": [
    "features = pd.merge(ind, noise_graf, on='AFFGEOID')"
   ]
  },
  {
   "cell_type": "code",
   "execution_count": 144,
   "metadata": {
    "collapsed": false
   },
   "outputs": [
    {
     "data": {
      "text/html": [
       "<div>\n",
       "<table border=\"1\" class=\"dataframe\">\n",
       "  <thead>\n",
       "    <tr style=\"text-align: right;\">\n",
       "      <th></th>\n",
       "      <th>Id2</th>\n",
       "      <th>AFFGEOID</th>\n",
       "      <th>GEOID_x</th>\n",
       "      <th>pop</th>\n",
       "      <th>female_r</th>\n",
       "      <th>elderly_r</th>\n",
       "      <th>white_r</th>\n",
       "      <th>black_r</th>\n",
       "      <th>asian_r</th>\n",
       "      <th>hh</th>\n",
       "      <th>...</th>\n",
       "      <th>ratio_ret</th>\n",
       "      <th>ratio_gar</th>\n",
       "      <th>ratio_strg</th>\n",
       "      <th>ratio_fac</th>\n",
       "      <th>div_areas</th>\n",
       "      <th>sumFreq</th>\n",
       "      <th>sumbars</th>\n",
       "      <th>GEOID_y</th>\n",
       "      <th>noise_count</th>\n",
       "      <th>graffiti_count</th>\n",
       "    </tr>\n",
       "  </thead>\n",
       "  <tbody>\n",
       "    <tr>\n",
       "      <th>0</th>\n",
       "      <td>360470228003</td>\n",
       "      <td>1500000US360470228003</td>\n",
       "      <td>360470228003</td>\n",
       "      <td>816</td>\n",
       "      <td>0.42770</td>\n",
       "      <td>0.00613</td>\n",
       "      <td>0.96324</td>\n",
       "      <td>0.00000</td>\n",
       "      <td>0.03676</td>\n",
       "      <td>485</td>\n",
       "      <td>...</td>\n",
       "      <td>0.05086</td>\n",
       "      <td>0.02349</td>\n",
       "      <td>0.01204</td>\n",
       "      <td>0.29418</td>\n",
       "      <td>0.69580</td>\n",
       "      <td>0</td>\n",
       "      <td>0</td>\n",
       "      <td>360470228003</td>\n",
       "      <td>17</td>\n",
       "      <td>9</td>\n",
       "    </tr>\n",
       "    <tr>\n",
       "      <th>1</th>\n",
       "      <td>360470231003</td>\n",
       "      <td>1500000US360470231003</td>\n",
       "      <td>360470231003</td>\n",
       "      <td>722</td>\n",
       "      <td>0.53047</td>\n",
       "      <td>0.04294</td>\n",
       "      <td>0.43629</td>\n",
       "      <td>0.44044</td>\n",
       "      <td>0.00000</td>\n",
       "      <td>62</td>\n",
       "      <td>...</td>\n",
       "      <td>0.00155</td>\n",
       "      <td>0.00000</td>\n",
       "      <td>0.00000</td>\n",
       "      <td>0.00000</td>\n",
       "      <td>0.48441</td>\n",
       "      <td>0</td>\n",
       "      <td>0</td>\n",
       "      <td>360470231003</td>\n",
       "      <td>368</td>\n",
       "      <td>6</td>\n",
       "    </tr>\n",
       "  </tbody>\n",
       "</table>\n",
       "<p>2 rows × 44 columns</p>\n",
       "</div>"
      ],
      "text/plain": [
       "            Id2               AFFGEOID       GEOID_x  pop  female_r  \\\n",
       "0  360470228003  1500000US360470228003  360470228003  816   0.42770   \n",
       "1  360470231003  1500000US360470231003  360470231003  722   0.53047   \n",
       "\n",
       "   elderly_r  white_r  black_r  asian_r   hh       ...        ratio_ret  \\\n",
       "0    0.00613  0.96324  0.00000  0.03676  485       ...          0.05086   \n",
       "1    0.04294  0.43629  0.44044  0.00000   62       ...          0.00155   \n",
       "\n",
       "   ratio_gar  ratio_strg  ratio_fac  div_areas  sumFreq  sumbars  \\\n",
       "0    0.02349     0.01204    0.29418    0.69580        0        0   \n",
       "1    0.00000     0.00000    0.00000    0.48441        0        0   \n",
       "\n",
       "        GEOID_y  noise_count  graffiti_count  \n",
       "0  360470228003           17               9  \n",
       "1  360470231003          368               6  \n",
       "\n",
       "[2 rows x 44 columns]"
      ]
     },
     "execution_count": 144,
     "metadata": {},
     "output_type": "execute_result"
    }
   ],
   "source": [
    "features.head(2)"
   ]
  },
  {
   "cell_type": "code",
   "execution_count": 145,
   "metadata": {
    "collapsed": false
   },
   "outputs": [
    {
     "data": {
      "text/html": [
       "<div>\n",
       "<table border=\"1\" class=\"dataframe\">\n",
       "  <thead>\n",
       "    <tr style=\"text-align: right;\">\n",
       "      <th></th>\n",
       "      <th>Id2</th>\n",
       "      <th>AFFGEOID</th>\n",
       "      <th>GEOID</th>\n",
       "      <th>pop</th>\n",
       "      <th>female_r</th>\n",
       "      <th>elderly_r</th>\n",
       "      <th>white_r</th>\n",
       "      <th>black_r</th>\n",
       "      <th>asian_r</th>\n",
       "      <th>hh</th>\n",
       "      <th>...</th>\n",
       "      <th>ratio_off</th>\n",
       "      <th>ratio_ret</th>\n",
       "      <th>ratio_gar</th>\n",
       "      <th>ratio_strg</th>\n",
       "      <th>ratio_fac</th>\n",
       "      <th>div_areas</th>\n",
       "      <th>sumFreq</th>\n",
       "      <th>sumbars</th>\n",
       "      <th>noise_count</th>\n",
       "      <th>graffiti_count</th>\n",
       "    </tr>\n",
       "  </thead>\n",
       "  <tbody>\n",
       "    <tr>\n",
       "      <th>0</th>\n",
       "      <td>360470228003</td>\n",
       "      <td>1500000US360470228003</td>\n",
       "      <td>360470228003</td>\n",
       "      <td>816</td>\n",
       "      <td>0.42770</td>\n",
       "      <td>0.00613</td>\n",
       "      <td>0.96324</td>\n",
       "      <td>0.00000</td>\n",
       "      <td>0.03676</td>\n",
       "      <td>485</td>\n",
       "      <td>...</td>\n",
       "      <td>0.03381</td>\n",
       "      <td>0.05086</td>\n",
       "      <td>0.02349</td>\n",
       "      <td>0.01204</td>\n",
       "      <td>0.29418</td>\n",
       "      <td>0.69580</td>\n",
       "      <td>0</td>\n",
       "      <td>0</td>\n",
       "      <td>17</td>\n",
       "      <td>9</td>\n",
       "    </tr>\n",
       "    <tr>\n",
       "      <th>1</th>\n",
       "      <td>360470231003</td>\n",
       "      <td>1500000US360470231003</td>\n",
       "      <td>360470231003</td>\n",
       "      <td>722</td>\n",
       "      <td>0.53047</td>\n",
       "      <td>0.04294</td>\n",
       "      <td>0.43629</td>\n",
       "      <td>0.44044</td>\n",
       "      <td>0.00000</td>\n",
       "      <td>62</td>\n",
       "      <td>...</td>\n",
       "      <td>0.00000</td>\n",
       "      <td>0.00155</td>\n",
       "      <td>0.00000</td>\n",
       "      <td>0.00000</td>\n",
       "      <td>0.00000</td>\n",
       "      <td>0.48441</td>\n",
       "      <td>0</td>\n",
       "      <td>0</td>\n",
       "      <td>368</td>\n",
       "      <td>6</td>\n",
       "    </tr>\n",
       "  </tbody>\n",
       "</table>\n",
       "<p>2 rows × 43 columns</p>\n",
       "</div>"
      ],
      "text/plain": [
       "            Id2               AFFGEOID         GEOID  pop  female_r  \\\n",
       "0  360470228003  1500000US360470228003  360470228003  816   0.42770   \n",
       "1  360470231003  1500000US360470231003  360470231003  722   0.53047   \n",
       "\n",
       "   elderly_r  white_r  black_r  asian_r   hh       ...        ratio_off  \\\n",
       "0    0.00613  0.96324  0.00000  0.03676  485       ...          0.03381   \n",
       "1    0.04294  0.43629  0.44044  0.00000   62       ...          0.00000   \n",
       "\n",
       "   ratio_ret  ratio_gar  ratio_strg  ratio_fac  div_areas  sumFreq  sumbars  \\\n",
       "0    0.05086    0.02349     0.01204    0.29418    0.69580        0        0   \n",
       "1    0.00155    0.00000     0.00000    0.00000    0.48441        0        0   \n",
       "\n",
       "   noise_count  graffiti_count  \n",
       "0           17               9  \n",
       "1          368               6  \n",
       "\n",
       "[2 rows x 43 columns]"
      ]
     },
     "execution_count": 145,
     "metadata": {},
     "output_type": "execute_result"
    }
   ],
   "source": [
    "features = features.drop('GEOID_y',axis=1)\n",
    "features = features.rename(columns={'GEOID_x':'GEOID'})\n",
    "features.head(2)"
   ]
  },
  {
   "cell_type": "code",
   "execution_count": 146,
   "metadata": {
    "collapsed": true
   },
   "outputs": [],
   "source": [
    "features['graf_r'] = features['graffiti_count']/features['pop']\n",
    "features['noise_r'] = features['noise_count']/features['pop']"
   ]
  },
  {
   "cell_type": "code",
   "execution_count": 147,
   "metadata": {
    "collapsed": false
   },
   "outputs": [
    {
     "data": {
      "text/html": [
       "<div>\n",
       "<table border=\"1\" class=\"dataframe\">\n",
       "  <thead>\n",
       "    <tr style=\"text-align: right;\">\n",
       "      <th></th>\n",
       "      <th>Id2</th>\n",
       "      <th>AFFGEOID</th>\n",
       "      <th>GEOID</th>\n",
       "      <th>pop</th>\n",
       "      <th>female_r</th>\n",
       "      <th>elderly_r</th>\n",
       "      <th>white_r</th>\n",
       "      <th>black_r</th>\n",
       "      <th>asian_r</th>\n",
       "      <th>hh</th>\n",
       "      <th>...</th>\n",
       "      <th>ratio_gar</th>\n",
       "      <th>ratio_strg</th>\n",
       "      <th>ratio_fac</th>\n",
       "      <th>div_areas</th>\n",
       "      <th>sumFreq</th>\n",
       "      <th>sumbars</th>\n",
       "      <th>noise_count</th>\n",
       "      <th>graffiti_count</th>\n",
       "      <th>graf_r</th>\n",
       "      <th>noise_r</th>\n",
       "    </tr>\n",
       "  </thead>\n",
       "  <tbody>\n",
       "    <tr>\n",
       "      <th>0</th>\n",
       "      <td>360470228003</td>\n",
       "      <td>1500000US360470228003</td>\n",
       "      <td>360470228003</td>\n",
       "      <td>816</td>\n",
       "      <td>0.42770</td>\n",
       "      <td>0.00613</td>\n",
       "      <td>0.96324</td>\n",
       "      <td>0.00000</td>\n",
       "      <td>0.03676</td>\n",
       "      <td>485</td>\n",
       "      <td>...</td>\n",
       "      <td>0.02349</td>\n",
       "      <td>0.01204</td>\n",
       "      <td>0.29418</td>\n",
       "      <td>0.69580</td>\n",
       "      <td>0</td>\n",
       "      <td>0</td>\n",
       "      <td>17</td>\n",
       "      <td>9</td>\n",
       "      <td>0.011029</td>\n",
       "      <td>0.020833</td>\n",
       "    </tr>\n",
       "    <tr>\n",
       "      <th>1</th>\n",
       "      <td>360470231003</td>\n",
       "      <td>1500000US360470231003</td>\n",
       "      <td>360470231003</td>\n",
       "      <td>722</td>\n",
       "      <td>0.53047</td>\n",
       "      <td>0.04294</td>\n",
       "      <td>0.43629</td>\n",
       "      <td>0.44044</td>\n",
       "      <td>0.00000</td>\n",
       "      <td>62</td>\n",
       "      <td>...</td>\n",
       "      <td>0.00000</td>\n",
       "      <td>0.00000</td>\n",
       "      <td>0.00000</td>\n",
       "      <td>0.48441</td>\n",
       "      <td>0</td>\n",
       "      <td>0</td>\n",
       "      <td>368</td>\n",
       "      <td>6</td>\n",
       "      <td>0.008310</td>\n",
       "      <td>0.509695</td>\n",
       "    </tr>\n",
       "  </tbody>\n",
       "</table>\n",
       "<p>2 rows × 45 columns</p>\n",
       "</div>"
      ],
      "text/plain": [
       "            Id2               AFFGEOID         GEOID  pop  female_r  \\\n",
       "0  360470228003  1500000US360470228003  360470228003  816   0.42770   \n",
       "1  360470231003  1500000US360470231003  360470231003  722   0.53047   \n",
       "\n",
       "   elderly_r  white_r  black_r  asian_r   hh    ...     ratio_gar  ratio_strg  \\\n",
       "0    0.00613  0.96324  0.00000  0.03676  485    ...       0.02349     0.01204   \n",
       "1    0.04294  0.43629  0.44044  0.00000   62    ...       0.00000     0.00000   \n",
       "\n",
       "   ratio_fac  div_areas  sumFreq  sumbars  noise_count  graffiti_count  \\\n",
       "0    0.29418    0.69580        0        0           17               9   \n",
       "1    0.00000    0.48441        0        0          368               6   \n",
       "\n",
       "     graf_r   noise_r  \n",
       "0  0.011029  0.020833  \n",
       "1  0.008310  0.509695  \n",
       "\n",
       "[2 rows x 45 columns]"
      ]
     },
     "execution_count": 147,
     "metadata": {},
     "output_type": "execute_result"
    }
   ],
   "source": [
    "features.head(2)"
   ]
  },
  {
   "cell_type": "code",
   "execution_count": 148,
   "metadata": {
    "collapsed": false
   },
   "outputs": [
    {
     "data": {
      "text/plain": [
       "6296"
      ]
     },
     "execution_count": 148,
     "metadata": {},
     "output_type": "execute_result"
    }
   ],
   "source": [
    "len(features)"
   ]
  },
  {
   "cell_type": "code",
   "execution_count": 149,
   "metadata": {
    "collapsed": false
   },
   "outputs": [
    {
     "name": "stdout",
     "output_type": "stream",
     "text": [
      "6442\n",
      "6296\n",
      "6296\n"
     ]
    }
   ],
   "source": [
    "print len(ind['AFFGEOID'].unique())\n",
    "print len(noise_graf['AFFGEOID'].unique())\n",
    "print len(noise_graf)"
   ]
  },
  {
   "cell_type": "code",
   "execution_count": 150,
   "metadata": {
    "collapsed": true
   },
   "outputs": [],
   "source": [
    "features.to_csv('cbg_features_4_19.csv')"
   ]
  },
  {
   "cell_type": "code",
   "execution_count": 152,
   "metadata": {
    "collapsed": false
   },
   "outputs": [
    {
     "data": {
      "text/plain": [
       "45"
      ]
     },
     "execution_count": 152,
     "metadata": {},
     "output_type": "execute_result"
    }
   ],
   "source": [
    "len(features.columns)"
   ]
  }
 ],
 "metadata": {
  "kernelspec": {
   "display_name": "Python 2",
   "language": "python",
   "name": "python2"
  },
  "language_info": {
   "codemirror_mode": {
    "name": "ipython",
    "version": 2
   },
   "file_extension": ".py",
   "mimetype": "text/x-python",
   "name": "python",
   "nbconvert_exporter": "python",
   "pygments_lexer": "ipython2",
   "version": "2.7.12"
  }
 },
 "nbformat": 4,
 "nbformat_minor": 1
}
